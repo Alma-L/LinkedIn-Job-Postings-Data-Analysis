{
 "cells": [
  {
   "cell_type": "code",
   "execution_count": 9,
   "id": "361669df-4fca-49ff-bec9-fb202d3ab581",
   "metadata": {},
   "outputs": [],
   "source": [
    "import pandas as pd\n",
    "import numpy as np"
   ]
  },
  {
   "cell_type": "code",
   "execution_count": 10,
   "id": "a84c3b40-423e-4d6c-b55b-128264610b15",
   "metadata": {},
   "outputs": [],
   "source": [
    "# Load the datasets using the specified paths\n",
    "job_posting = pd.read_csv('./Raw_Data/postings.csv')\n",
    "companies = pd.read_csv('./Raw_Data/companies/companies.csv')\n",
    "job_skills = pd.read_csv('./Raw_Data/jobs/job_skills.csv')\n",
    "mapping_skills = pd.read_csv('./Raw_Data/mappings/skills.csv')"
   ]
  },
  {
   "cell_type": "code",
   "execution_count": 40,
   "id": "7793465e-876f-43d8-9050-ccd385eac0fa",
   "metadata": {},
   "outputs": [],
   "source": [
    "# Ensure 'company_id' is a nullable integer and 'company_size' is a float in the companies DataFrame\n",
    "companies['company_id'] = companies['company_id'].astype('Int64')  # Sets as nullable integer for missing values\n",
    "companies['company_size'] = pd.to_numeric(companies['company_size'], errors='coerce')  # Converts to float, setting non-numeric values as NaN\n"
   ]
  },
  {
   "cell_type": "code",
   "execution_count": 42,
   "id": "a9b6b538-773a-43fa-831d-07becbb5f12c",
   "metadata": {},
   "outputs": [
    {
     "data": {
      "text/html": [
       "<div>\n",
       "<style scoped>\n",
       "    .dataframe tbody tr th:only-of-type {\n",
       "        vertical-align: middle;\n",
       "    }\n",
       "\n",
       "    .dataframe tbody tr th {\n",
       "        vertical-align: top;\n",
       "    }\n",
       "\n",
       "    .dataframe thead th {\n",
       "        text-align: right;\n",
       "    }\n",
       "</style>\n",
       "<table border=\"1\" class=\"dataframe\">\n",
       "  <thead>\n",
       "    <tr style=\"text-align: right;\">\n",
       "      <th></th>\n",
       "      <th>job_id</th>\n",
       "      <th>skill_abr</th>\n",
       "      <th>skill_name</th>\n",
       "    </tr>\n",
       "  </thead>\n",
       "  <tbody>\n",
       "    <tr>\n",
       "      <th>0</th>\n",
       "      <td>3884428798</td>\n",
       "      <td>MRKT</td>\n",
       "      <td>Marketing</td>\n",
       "    </tr>\n",
       "    <tr>\n",
       "      <th>1</th>\n",
       "      <td>3884428798</td>\n",
       "      <td>PR</td>\n",
       "      <td>Public Relations</td>\n",
       "    </tr>\n",
       "    <tr>\n",
       "      <th>2</th>\n",
       "      <td>3884428798</td>\n",
       "      <td>WRT</td>\n",
       "      <td>Writing/Editing</td>\n",
       "    </tr>\n",
       "    <tr>\n",
       "      <th>3</th>\n",
       "      <td>3887473071</td>\n",
       "      <td>SALE</td>\n",
       "      <td>Sales</td>\n",
       "    </tr>\n",
       "    <tr>\n",
       "      <th>4</th>\n",
       "      <td>3887465684</td>\n",
       "      <td>FIN</td>\n",
       "      <td>Finance</td>\n",
       "    </tr>\n",
       "  </tbody>\n",
       "</table>\n",
       "</div>"
      ],
      "text/plain": [
       "       job_id skill_abr        skill_name\n",
       "0  3884428798      MRKT         Marketing\n",
       "1  3884428798        PR  Public Relations\n",
       "2  3884428798       WRT   Writing/Editing\n",
       "3  3887473071      SALE             Sales\n",
       "4  3887465684       FIN           Finance"
      ]
     },
     "execution_count": 42,
     "metadata": {},
     "output_type": "execute_result"
    }
   ],
   "source": [
    "# Merge job_skills with mapping_skills to include full skill names\n",
    "job_skills_detailed = job_skills.merge(mapping_skills, on=\"skill_abr\", how=\"left\")\n",
    "# Display the first few rows of the merged data for verification\n",
    "job_skills_detailed.head()\n"
   ]
  },
  {
   "cell_type": "code",
   "execution_count": 41,
   "id": "ec2f4c9b-1713-407d-a06e-edbd5d522e7f",
   "metadata": {},
   "outputs": [],
   "source": [
    "# Check for missing values in each DataFrame\n",
    "missing_values_companies = companies.isnull().sum()\n",
    "missing_values_job_skills = job_skills.isnull().sum()\n",
    "missing_values_skills = mapping_skills.isnull().sum()\n",
    "missing_values_postings = job_posting.isnull().sum()"
   ]
  },
  {
   "cell_type": "code",
   "execution_count": 43,
   "id": "d89b487c-99ee-4bea-9ef8-27b3977b26e2",
   "metadata": {},
   "outputs": [
    {
     "name": "stdout",
     "output_type": "stream",
     "text": [
      "Missing values in companies:\n",
      " company_id      0\n",
      "name            0\n",
      "description     0\n",
      "company_size    0\n",
      "state           0\n",
      "country         0\n",
      "city            0\n",
      "zip_code        0\n",
      "address         0\n",
      "url             0\n",
      "dtype: int64\n",
      "\n",
      "Missing values in job_skills:\n",
      " job_id       0\n",
      "skill_abr    0\n",
      "dtype: int64\n",
      "\n",
      "Missing values in mapping_skills:\n",
      " skill_abr     0\n",
      "skill_name    0\n",
      "dtype: int64\n",
      "\n",
      "Missing values in job_posting:\n",
      " job_id                             0\n",
      "company_name                    1719\n",
      "title                              0\n",
      "description                        7\n",
      "max_salary                     94056\n",
      "pay_period                     87776\n",
      "location                           0\n",
      "company_id                      1717\n",
      "views                           1689\n",
      "med_salary                    117569\n",
      "min_salary                     94056\n",
      "formatted_work_type                0\n",
      "applies                       100529\n",
      "original_listed_time               0\n",
      "remote_allowed                108603\n",
      "job_posting_url                    0\n",
      "application_url                36665\n",
      "application_type                   0\n",
      "expiry                             0\n",
      "closed_time                   122776\n",
      "formatted_experience_level     29409\n",
      "skills_desc                   121410\n",
      "listed_time                        0\n",
      "posting_domain                 39968\n",
      "sponsored                          0\n",
      "work_type                          0\n",
      "currency                       87776\n",
      "compensation_type              87776\n",
      "normalized_salary              87776\n",
      "zip_code                       20872\n",
      "fips                           27415\n",
      "dtype: int64\n"
     ]
    }
   ],
   "source": [
    "# Display summaries of missing values after handling for verification\n",
    "print(\"Missing values in companies:\\n\", missing_values_companies)\n",
    "print(\"\\nMissing values in job_skills:\\n\", missing_values_job_skills)\n",
    "print(\"\\nMissing values in mapping_skills:\\n\", missing_values_skills)\n",
    "print(\"\\nMissing values in job_posting:\\n\", missing_values_postings)\n"
   ]
  },
  {
   "cell_type": "code",
   "execution_count": 45,
   "id": "f40c2897-36ce-417c-8dae-4eb41ac2bc79",
   "metadata": {},
   "outputs": [],
   "source": [
    "# Fill missing values in the companies DataFrame\n",
    "companies['company_size'].fillna(companies['company_size'].median(), inplace=True)\n",
    "companies['description'].fillna(\"No description provided\", inplace=True)\n",
    "companies['state'].fillna(\"Unknown\", inplace=True)\n",
    "companies['city'].fillna(\"Unknown\", inplace=True)\n",
    "companies['zip_code'].fillna(\"Unknown\", inplace=True)\n",
    "companies['address'].fillna(\"Unknown\", inplace=True)\n",
    "\n",
    "# Drop rows in postings where 'company_id' is missing and create a separate copy\n",
    "postings = job_posting.dropna(subset=['company_id']).copy()\n",
    "\n",
    "# Convert 'company_id' to nullable integer to avoid float conversion\n",
    "postings['company_id'] = postings['company_id'].astype('Int64')\n"
   ]
  },
  {
   "cell_type": "code",
   "execution_count": 47,
   "id": "39c355a1-328d-4437-afb0-148ee514828f",
   "metadata": {},
   "outputs": [
    {
     "name": "stdout",
     "output_type": "stream",
     "text": [
      "Initial missing values in postings:\n",
      " job_id                             0\n",
      "company_name                       2\n",
      "title                              0\n",
      "description                        6\n",
      "max_salary                     92793\n",
      "pay_period                     86568\n",
      "location                           0\n",
      "company_id                         0\n",
      "views                           1627\n",
      "med_salary                    115907\n",
      "min_salary                     92793\n",
      "formatted_work_type                0\n",
      "applies                        99236\n",
      "original_listed_time               0\n",
      "remote_allowed                107318\n",
      "job_posting_url                    0\n",
      "application_url                35063\n",
      "application_type                   0\n",
      "expiry                             0\n",
      "closed_time                   121076\n",
      "formatted_experience_level     27949\n",
      "skills_desc                   119696\n",
      "listed_time                        0\n",
      "posting_domain                 38252\n",
      "sponsored                          0\n",
      "work_type                          0\n",
      "currency                       86568\n",
      "compensation_type              86568\n",
      "normalized_salary              86568\n",
      "zip_code                       20274\n",
      "fips                           26738\n",
      "dtype: int64\n"
     ]
    }
   ],
   "source": [
    "# Print initial missing values in postings\n",
    "print(\"Initial missing values in postings:\\n\", postings.isnull().sum())\n",
    "\n"
   ]
  },
  {
   "cell_type": "code",
   "execution_count": null,
   "id": "d1a2df95-7dc2-4cb7-9ed6-11e8e2bb8a92",
   "metadata": {},
   "outputs": [],
   "source": [
    "# Fill key missing values in postings\n",
    "postings['company_name'].fillna(\"Unknown Company\", inplace=True)\n",
    "postings['description'].fillna(\"No description provided\", inplace=True)\n",
    "\n",
    "# Optionally, fill salary-related columns with median salary values\n",
    "salary_median = postings[['max_salary', 'min_salary']].median()\n",
    "postings['max_salary'].fillna(salary_median['max_salary'], inplace=True)\n",
    "postings['min_salary'].fillna(salary_median['min_salary'], inplace=True)\n",
    "\n",
    "# Optionally drop columns with too many missing values (e.g., if over 80% missing)\n",
    "# Drop columns if they exist; ignore any that aren't in the DataFrame\n",
    "postings.drop(columns=['med_salary', 'skills_desc', 'remote_allowed', 'closed_time'], inplace=True, errors='ignore')\n",
    "\n"
   ]
  },
  {
   "cell_type": "code",
   "execution_count": 64,
   "id": "8382381b-8cdc-4150-9051-cb60a5b0365a",
   "metadata": {},
   "outputs": [
    {
     "name": "stdout",
     "output_type": "stream",
     "text": [
      "Final missing values in full_data:\n",
      " job_id                             0\n",
      "company_name                       0\n",
      "title                              0\n",
      "description_x                      0\n",
      "max_salary                         0\n",
      "pay_period                    144438\n",
      "location                           0\n",
      "company_id                         0\n",
      "views                           2802\n",
      "min_salary                         0\n",
      "formatted_work_type                0\n",
      "applies                       165087\n",
      "original_listed_time               0\n",
      "job_posting_url                    0\n",
      "application_url                60051\n",
      "application_type                   0\n",
      "expiry                             0\n",
      "formatted_experience_level     45677\n",
      "listed_time                        0\n",
      "posting_domain                 66789\n",
      "sponsored                          0\n",
      "work_type                          0\n",
      "currency                      144438\n",
      "compensation_type             144438\n",
      "normalized_salary             144438\n",
      "zip_code_x                     35322\n",
      "fips                           46106\n",
      "skill_abr                       1541\n",
      "skill_name                      1541\n",
      "name                               1\n",
      "description_y                      1\n",
      "company_size                       1\n",
      "state                              1\n",
      "country                            1\n",
      "city                               1\n",
      "zip_code_y                         1\n",
      "address                            1\n",
      "url                                1\n",
      "dtype: int64\n"
     ]
    }
   ],
   "source": [
    "# Integration Step\n",
    "job_data_combined = postings.merge(job_skills_detailed, on=\"job_id\", how=\"left\")\n",
    "job_data_combined['company_id'] = job_data_combined['company_id'].astype('Int64')  # Ensure alignment with companies\n",
    "\n",
    "# Now merge job_data_combined with companies on 'company_id' to include company information\n",
    "full_data = job_data_combined.merge(companies, on=\"company_id\", how=\"left\")\n",
    "\n",
    "# Check final missing values in full_data\n",
    "print(\"Final missing values in full_data:\\n\", full_data.isnull().sum())\n"
   ]
  },
  {
   "cell_type": "code",
   "execution_count": 65,
   "id": "b321e8d0-1fb2-4108-ba64-fd243082a2c3",
   "metadata": {},
   "outputs": [
    {
     "name": "stdout",
     "output_type": "stream",
     "text": [
      "Total job postings per company:\n",
      "    company_id  total_jobs\n",
      "0        1009          33\n",
      "1        1016          85\n",
      "2        1025          24\n",
      "3        1028         127\n",
      "4        1033          37\n"
     ]
    }
   ],
   "source": [
    "# Aggregation examples\n",
    "job_count_per_company = full_data.groupby(\"company_id\")['job_id'].count().reset_index()\n",
    "job_count_per_company.rename(columns={\"job_id\": \"total_jobs\"}, inplace=True)\n",
    "print(\"Total job postings per company:\\n\", job_count_per_company.head())"
   ]
  },
  {
   "cell_type": "code",
   "execution_count": 66,
   "id": "75183874-3d50-427e-86e7-81b983589b0d",
   "metadata": {},
   "outputs": [
    {
     "name": "stdout",
     "output_type": "stream",
     "text": [
      "Top required skills across all jobs:\n",
      "                skill_name  count\n",
      "0  Information Technology  26137\n",
      "1                   Sales  22475\n",
      "2              Management  20861\n",
      "3           Manufacturing  18185\n",
      "4    Health Care Provider  17369\n"
     ]
    }
   ],
   "source": [
    "skill_count = job_skills_detailed['skill_name'].value_counts().reset_index()\n",
    "skill_count.columns = ['skill_name', 'count']\n",
    "print(\"Top required skills across all jobs:\\n\", skill_count.head())"
   ]
  },
  {
   "cell_type": "code",
   "execution_count": 67,
   "id": "5dc0cfe1-b412-449a-9040-5bc541d6af01",
   "metadata": {},
   "outputs": [],
   "source": [
    "# Drop duplicates\n",
    "full_data.drop_duplicates(inplace=True)"
   ]
  },
  {
   "cell_type": "code",
   "execution_count": 68,
   "id": "249aa6d4-a36b-4507-a9f3-11ffc4f456c7",
   "metadata": {},
   "outputs": [
    {
     "name": "stdout",
     "output_type": "stream",
     "text": [
      "\n",
      "Sample of fully processed data:\n",
      "             job_id                                   company_name  \\\n",
      "179699  3905351309                           Signature HealthCARE   \n",
      "20013   3887593646                           Keck Medicine of USC   \n",
      "23240   3887872935                                        Netflix   \n",
      "151463  3904577325  TMAC's Direct Hire (Executive Search) Service   \n",
      "131876  3903840980                             FirstChoice Hiring   \n",
      "\n",
      "                                                    title  \\\n",
      "179699                  Certified Nursing Assistant (CNA)   \n",
      "20013   Licensed Vocational Nurse - Emergency Room - F...   \n",
      "23240   Technical Program Manager 6 - Game SDK and Ser...   \n",
      "151463     Field Medical Director, Pediatric Gene Editing   \n",
      "131876       HVAC Technicians / Installers - Capital Heat   \n",
      "\n",
      "                                            description_x  max_salary  \\\n",
      "179699  About Us\\n\\nWelcome to Signature Healthcare of...     80000.0   \n",
      "20013   The Licensed Vocational Nurse (LVN) is an indi...     80000.0   \n",
      "23240   Netflix is one of the world's leading entertai...    725000.0   \n",
      "151463  Field Medical Director (MSL), Pediatric Gene E...     80000.0   \n",
      "131876  2975 Walden Ave., Depew, NY 14043\\n\\nHVAC Tech...     80000.0   \n",
      "\n",
      "       pay_period                   location  company_id  views  min_salary  \\\n",
      "179699        NaN                 Muncie, IN      602239    3.0     60200.0   \n",
      "20013         NaN               Glendale, CA      899708    6.0     60200.0   \n",
      "23240      YEARLY              United States      165158   72.0    240000.0   \n",
      "151463        NaN  New Jersey, United States     9428364    5.0     60200.0   \n",
      "131876        NaN                Buffalo, NY    40693052    4.0     60200.0   \n",
      "\n",
      "        ...            skill_name  \\\n",
      "179699  ...  Health Care Provider   \n",
      "20013   ...  Health Care Provider   \n",
      "23240   ...    Project Management   \n",
      "151463  ...               Science   \n",
      "131876  ...         Manufacturing   \n",
      "\n",
      "                                                 name  \\\n",
      "179699                           Signature HealthCARE   \n",
      "20013                            Keck Medicine of USC   \n",
      "23240                                         Netflix   \n",
      "151463  TMAC's Direct Hire (Executive Search) Service   \n",
      "131876                             FirstChoice Hiring   \n",
      "\n",
      "                                            description_y company_size  \\\n",
      "179699  Signature HealthCARE is a family-based healthc...          7.0   \n",
      "20013   Keck Medicine of USC is the University of Sout...          6.0   \n",
      "23240   Netflix is one of the world's leading entertai...          7.0   \n",
      "151463  TMAC's direct hire service, formerly known as ...          1.0   \n",
      "131876  FirstChoice Hiring is a talent acquisition pla...          1.0   \n",
      "\n",
      "          state country         city zip_code_y                     address  \\\n",
      "179699       KY      US   Louisville      40299     12201 Bluegrass Parkway   \n",
      "20013        CA      US  Los Angeles      90033       1500 San Pablo Street   \n",
      "23240        CA      US    Los Gatos          0       100 Winchester Circle   \n",
      "151463  Georgia      US     Kennesaw      30144             125 TownPark Dr   \n",
      "131876  Georgia      US      Atlanta      30346  115 Perimeter Center Pl NE   \n",
      "\n",
      "                                                      url  \n",
      "179699  https://www.linkedin.com/company/signature-hea...  \n",
      "20013   https://www.linkedin.com/company/keck-medicine...  \n",
      "23240            https://www.linkedin.com/company/netflix  \n",
      "151463        https://www.linkedin.com/company/tmacdirect  \n",
      "131876  https://www.linkedin.com/company/firstchoice-h...  \n",
      "\n",
      "[5 rows x 38 columns]\n"
     ]
    }
   ],
   "source": [
    "# Final sampling step\n",
    "sampled_data = full_data.sample(frac=0.05, random_state=42).copy()\n",
    "print(\"\\nSample of fully processed data:\\n\", sampled_data.head())"
   ]
  },
  {
   "cell_type": "code",
   "execution_count": null,
   "id": "3b7c5923-990a-4f56-b1de-3e9759543329",
   "metadata": {},
   "outputs": [],
   "source": []
  }
 ],
 "metadata": {
  "kernelspec": {
   "display_name": "Python 3 (ipykernel)",
   "language": "python",
   "name": "python3"
  },
  "language_info": {
   "codemirror_mode": {
    "name": "ipython",
    "version": 3
   },
   "file_extension": ".py",
   "mimetype": "text/x-python",
   "name": "python",
   "nbconvert_exporter": "python",
   "pygments_lexer": "ipython3",
   "version": "3.9.13"
  }
 },
 "nbformat": 4,
 "nbformat_minor": 5
}
