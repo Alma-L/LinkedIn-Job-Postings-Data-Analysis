{
 "cells": [
  {
   "cell_type": "code",
   "execution_count": 47,
   "id": "361669df-4fca-49ff-bec9-fb202d3ab581",
   "metadata": {},
   "outputs": [],
   "source": [
    "import os\n",
    "import pandas as pd\n",
    "import numpy as np\n",
    "from sklearn.decomposition import PCA\n",
    "from sklearn.impute import SimpleImputer\n",
    "from sklearn.preprocessing import StandardScaler\n",
    "import matplotlib.pyplot as plt"
   ]
  },
  {
   "cell_type": "code",
   "execution_count": 48,
   "id": "a84c3b40-423e-4d6c-b55b-128264610b15",
   "metadata": {},
   "outputs": [],
   "source": [
    "# Load the datasets using the specified paths\n",
    "job_posting = pd.read_csv('./Raw_Data/postings.csv')\n",
    "companies = pd.read_csv('./Raw_Data/companies/companies.csv')\n",
    "job_skills = pd.read_csv('./Raw_Data/jobs/job_skills.csv')\n",
    "mapping_skills = pd.read_csv('./Raw_Data/mappings/skills.csv')"
   ]
  },
  {
   "cell_type": "code",
   "execution_count": 49,
   "id": "7793465e-876f-43d8-9050-ccd385eac0fa",
   "metadata": {},
   "outputs": [],
   "source": [
    "# Companies dataset\n",
    "companies = companies.astype({\n",
    "    'company_id': 'Int64',\n",
    "    'name': 'string',\n",
    "    'company_size': 'float'\n",
    "})\n",
    "\n",
    "# Job postings dataset\n",
    "job_posting = job_posting.astype({\n",
    "    'job_id': 'Int64',\n",
    "    'company_name': 'string',\n",
    "    'min_salary': 'float'\n",
    "})\n",
    "\n",
    "# Job skills dataset\n",
    "job_skills = job_skills.astype({\n",
    "    'job_id': 'Int64',\n",
    "    'skill_abr': 'string'\n",
    "})\n",
    "\n",
    "# Mapping skills dataset\n",
    "mapping_skills = mapping_skills.astype({\n",
    "    'skill_abr': 'string',\n",
    "    'skill_name': 'string'\n",
    "})"
   ]
  },
  {
   "cell_type": "code",
   "execution_count": 50,
   "id": "ec2f4c9b-1713-407d-a06e-edbd5d522e7f",
   "metadata": {},
   "outputs": [],
   "source": [
    "# Check for missing values in each DataFrame\n",
    "missing_values_companies = companies.isnull().sum()\n",
    "missing_values_job_skills = job_skills.isnull().sum()\n",
    "missing_values_skills = mapping_skills.isnull().sum()\n",
    "missing_values_postings = job_posting.isnull().sum()"
   ]
  },
  {
   "cell_type": "code",
   "execution_count": 51,
   "id": "d89b487c-99ee-4bea-9ef8-27b3977b26e2",
   "metadata": {},
   "outputs": [
    {
     "name": "stdout",
     "output_type": "stream",
     "text": [
      "Missing values in companies:\n",
      " company_id         0\n",
      "name               1\n",
      "description      297\n",
      "company_size    2774\n",
      "state             22\n",
      "country            0\n",
      "city               1\n",
      "zip_code          28\n",
      "address           22\n",
      "url                0\n",
      "dtype: int64\n",
      "\n",
      "Missing values in job_skills:\n",
      " job_id       0\n",
      "skill_abr    0\n",
      "dtype: int64\n",
      "\n",
      "Missing values in mapping_skills:\n",
      " skill_abr     0\n",
      "skill_name    0\n",
      "dtype: int64\n",
      "\n",
      "Missing values in job_posting:\n",
      " job_id                             0\n",
      "company_name                    1719\n",
      "title                              0\n",
      "description                        7\n",
      "max_salary                     94056\n",
      "pay_period                     87776\n",
      "location                           0\n",
      "company_id                      1717\n",
      "views                           1689\n",
      "med_salary                    117569\n",
      "min_salary                     94056\n",
      "formatted_work_type                0\n",
      "applies                       100529\n",
      "original_listed_time               0\n",
      "remote_allowed                108603\n",
      "job_posting_url                    0\n",
      "application_url                36665\n",
      "application_type                   0\n",
      "expiry                             0\n",
      "closed_time                   122776\n",
      "formatted_experience_level     29409\n",
      "skills_desc                   121410\n",
      "listed_time                        0\n",
      "posting_domain                 39968\n",
      "sponsored                          0\n",
      "work_type                          0\n",
      "currency                       87776\n",
      "compensation_type              87776\n",
      "normalized_salary              87776\n",
      "zip_code                       20872\n",
      "fips                           27415\n",
      "dtype: int64\n"
     ]
    }
   ],
   "source": [
    "# Display summaries of missing values after handling for verification\n",
    "print(\"Missing values in companies:\\n\", missing_values_companies)\n",
    "print(\"\\nMissing values in job_skills:\\n\", missing_values_job_skills)\n",
    "print(\"\\nMissing values in mapping_skills:\\n\", missing_values_skills)\n",
    "print(\"\\nMissing values in job_posting:\\n\", missing_values_postings)\n"
   ]
  },
  {
   "cell_type": "code",
   "execution_count": 52,
   "id": "a9b6b538-773a-43fa-831d-07becbb5f12c",
   "metadata": {
    "scrolled": true
   },
   "outputs": [
    {
     "data": {
      "text/html": [
       "<div>\n",
       "<style scoped>\n",
       "    .dataframe tbody tr th:only-of-type {\n",
       "        vertical-align: middle;\n",
       "    }\n",
       "\n",
       "    .dataframe tbody tr th {\n",
       "        vertical-align: top;\n",
       "    }\n",
       "\n",
       "    .dataframe thead th {\n",
       "        text-align: right;\n",
       "    }\n",
       "</style>\n",
       "<table border=\"1\" class=\"dataframe\">\n",
       "  <thead>\n",
       "    <tr style=\"text-align: right;\">\n",
       "      <th></th>\n",
       "      <th>job_id</th>\n",
       "      <th>skill_abr</th>\n",
       "      <th>skill_name</th>\n",
       "    </tr>\n",
       "  </thead>\n",
       "  <tbody>\n",
       "    <tr>\n",
       "      <th>0</th>\n",
       "      <td>3884428798</td>\n",
       "      <td>MRKT</td>\n",
       "      <td>Marketing</td>\n",
       "    </tr>\n",
       "    <tr>\n",
       "      <th>1</th>\n",
       "      <td>3884428798</td>\n",
       "      <td>PR</td>\n",
       "      <td>Public Relations</td>\n",
       "    </tr>\n",
       "    <tr>\n",
       "      <th>2</th>\n",
       "      <td>3884428798</td>\n",
       "      <td>WRT</td>\n",
       "      <td>Writing/Editing</td>\n",
       "    </tr>\n",
       "    <tr>\n",
       "      <th>3</th>\n",
       "      <td>3887473071</td>\n",
       "      <td>SALE</td>\n",
       "      <td>Sales</td>\n",
       "    </tr>\n",
       "    <tr>\n",
       "      <th>4</th>\n",
       "      <td>3887465684</td>\n",
       "      <td>FIN</td>\n",
       "      <td>Finance</td>\n",
       "    </tr>\n",
       "  </tbody>\n",
       "</table>\n",
       "</div>"
      ],
      "text/plain": [
       "       job_id skill_abr        skill_name\n",
       "0  3884428798      MRKT         Marketing\n",
       "1  3884428798        PR  Public Relations\n",
       "2  3884428798       WRT   Writing/Editing\n",
       "3  3887473071      SALE             Sales\n",
       "4  3887465684       FIN           Finance"
      ]
     },
     "execution_count": 52,
     "metadata": {},
     "output_type": "execute_result"
    }
   ],
   "source": [
    "# Merge job_skills with mapping_skills to include full skill names\n",
    "job_skills_detailed = job_skills.merge(mapping_skills, on=\"skill_abr\", how=\"left\")\n",
    "# Display the first few rows of the merged data for verification\n",
    "job_skills_detailed.head()"
   ]
  },
  {
   "cell_type": "code",
   "execution_count": 53,
   "id": "f40c2897-36ce-417c-8dae-4eb41ac2bc79",
   "metadata": {},
   "outputs": [],
   "source": [
    "# Fill missing values in the companies DataFrame\n",
    "fill_values = {\n",
    "    'company_size': companies['company_size'].median(),\n",
    "    'description': \"No description provided\",\n",
    "    'state': \"Unknown\",\n",
    "    'city': \"Unknown\",\n",
    "    'zip_code': \"Unknown\",\n",
    "    'address': \"Unknown\"\n",
    "}\n",
    "\n",
    "for column, value in fill_values.items():\n",
    "    companies[column] = companies[column].fillna(value)\n",
    "\n",
    "job_posting.fillna({'company_name': 'Unknown'}, inplace=True)\n",
    "job_posting.fillna({'description': 'No description provided'}, inplace=True)\n",
    "\n",
    "\n",
    "# Drop rows in job_posting where 'company_id' is missing\n",
    "job_posting.dropna(subset=['company_id'], inplace=True)\n",
    "\n",
    "# Convert 'company_id' to nullable integer to avoid float conversion\n",
    "job_posting['company_id'] = job_posting['company_id'].astype('Int64')\n"
   ]
  },
  {
   "cell_type": "code",
   "execution_count": 54,
   "id": "39c355a1-328d-4437-afb0-148ee514828f",
   "metadata": {},
   "outputs": [
    {
     "name": "stdout",
     "output_type": "stream",
     "text": [
      "Initial missing values in postings:\n",
      " job_id                             0\n",
      "company_name                       0\n",
      "title                              0\n",
      "description                        0\n",
      "max_salary                     92793\n",
      "pay_period                     86568\n",
      "location                           0\n",
      "company_id                         0\n",
      "views                           1627\n",
      "med_salary                    115907\n",
      "min_salary                     92793\n",
      "formatted_work_type                0\n",
      "applies                        99236\n",
      "original_listed_time               0\n",
      "remote_allowed                107318\n",
      "job_posting_url                    0\n",
      "application_url                35063\n",
      "application_type                   0\n",
      "expiry                             0\n",
      "closed_time                   121076\n",
      "formatted_experience_level     27949\n",
      "skills_desc                   119696\n",
      "listed_time                        0\n",
      "posting_domain                 38252\n",
      "sponsored                          0\n",
      "work_type                          0\n",
      "currency                       86568\n",
      "compensation_type              86568\n",
      "normalized_salary              86568\n",
      "zip_code                       20274\n",
      "fips                           26738\n",
      "dtype: int64\n"
     ]
    }
   ],
   "source": [
    "# Print initial missing values in postings\n",
    "print(\"Initial missing values in postings:\\n\", job_posting.isnull().sum())\n",
    "\n"
   ]
  },
  {
   "cell_type": "code",
   "execution_count": 55,
   "id": "d1a2df95-7dc2-4cb7-9ed6-11e8e2bb8a92",
   "metadata": {},
   "outputs": [],
   "source": [
    "# Calculate median salary values for filling\n",
    "salary_median = job_posting[['max_salary', 'min_salary']].median()\n",
    "job_posting['max_salary'] = job_posting['max_salary'].fillna(salary_median['max_salary'])\n",
    "job_posting['min_salary'] = job_posting['min_salary'].fillna(salary_median['min_salary'])\n",
    "\n",
    "# Drop columns with too many missing values (over 80% missing)\n",
    "columns_to_drop = ['med_salary', 'skills_desc', 'remote_allowed', 'closed_time','zip_code', 'fips', 'job_posting_url', 'application_url']\n",
    "job_posting = job_posting.drop(columns=columns_to_drop, errors='ignore')\n"
   ]
  },
  {
   "cell_type": "code",
   "execution_count": 56,
   "id": "8382381b-8cdc-4150-9051-cb60a5b0365a",
   "metadata": {},
   "outputs": [
    {
     "name": "stdout",
     "output_type": "stream",
     "text": [
      "Final missing values in full_data:\n",
      " job_id                             0\n",
      "company_name                       0\n",
      "title                              0\n",
      "description_x                      0\n",
      "max_salary                         0\n",
      "pay_period                    144438\n",
      "location                           0\n",
      "company_id                         0\n",
      "views                           2802\n",
      "min_salary                         0\n",
      "formatted_work_type                0\n",
      "applies                       165087\n",
      "original_listed_time               0\n",
      "application_type                   0\n",
      "expiry                             0\n",
      "formatted_experience_level     45677\n",
      "listed_time                        0\n",
      "posting_domain                 66789\n",
      "sponsored                          0\n",
      "work_type                          0\n",
      "currency                      144438\n",
      "compensation_type             144438\n",
      "normalized_salary             144438\n",
      "skill_abr                       1541\n",
      "skill_name                      1541\n",
      "name                               4\n",
      "description_y                      1\n",
      "company_size                       1\n",
      "state                              1\n",
      "country                            1\n",
      "city                               1\n",
      "zip_code                           1\n",
      "address                            1\n",
      "url                                1\n",
      "dtype: int64\n"
     ]
    }
   ],
   "source": [
    "# Integration Step\n",
    "job_data_combined = job_posting.merge(job_skills_detailed, on=\"job_id\", how=\"left\")\n",
    "job_data_combined['company_id'] = job_data_combined['company_id'].astype('Int64')  # Ensure alignment with companies\n",
    "\n",
    "# Now merge job_data_combined with companies on 'company_id' to include company information\n",
    "full_data = job_data_combined.merge(companies, on=\"company_id\", how=\"left\")\n",
    "\n",
    "# Check final missing values in full_data\n",
    "print(\"Final missing values in full_data:\\n\", full_data.isnull().sum())\n"
   ]
  },
  {
   "cell_type": "code",
   "execution_count": 57,
   "id": "b321e8d0-1fb2-4108-ba64-fd243082a2c3",
   "metadata": {},
   "outputs": [
    {
     "name": "stdout",
     "output_type": "stream",
     "text": [
      "Total job postings per company:\n",
      "                          name  total_jobs\n",
      "0                         IBM          33\n",
      "1               GE HealthCare          85\n",
      "2  Hewlett Packard Enterprise          24\n",
      "3                      Oracle         127\n",
      "4                   Accenture          37\n"
     ]
    }
   ],
   "source": [
    "# Aggregation examples\n",
    "job_count_per_company = full_data.groupby(\"company_id\")['job_id'].count().reset_index()\n",
    "job_count_per_company.rename(columns={\"job_id\": \"total_jobs\"}, inplace=True)\n",
    "job_count_per_company = job_count_per_company.merge(companies[['company_id', 'name']], on='company_id', how='left')\n",
    "\n",
    "print(\"Total job postings per company:\\n\", job_count_per_company[['name', 'total_jobs']].head())\n"
   ]
  },
  {
   "cell_type": "code",
   "execution_count": 58,
   "id": "75183874-3d50-427e-86e7-81b983589b0d",
   "metadata": {},
   "outputs": [
    {
     "name": "stdout",
     "output_type": "stream",
     "text": [
      "Top required skills across all jobs:\n",
      "                skill_name  count\n",
      "0  Information Technology  26137\n",
      "1                   Sales  22475\n",
      "2              Management  20861\n",
      "3           Manufacturing  18185\n",
      "4    Health Care Provider  17369\n"
     ]
    }
   ],
   "source": [
    "skill_count = job_skills_detailed['skill_name'].value_counts().reset_index()\n",
    "skill_count.columns = ['skill_name', 'count']\n",
    "print(\"Top required skills across all jobs:\\n\", skill_count.head())"
   ]
  },
  {
   "cell_type": "code",
   "execution_count": 59,
   "id": "5dc0cfe1-b412-449a-9040-5bc541d6af01",
   "metadata": {},
   "outputs": [],
   "source": [
    "# Drop duplicates\n",
    "full_data.drop_duplicates(inplace=True)"
   ]
  },
  {
   "cell_type": "code",
   "execution_count": 60,
   "id": "249aa6d4-a36b-4507-a9f3-11ffc4f456c7",
   "metadata": {},
   "outputs": [
    {
     "name": "stdout",
     "output_type": "stream",
     "text": [
      "\n",
      "Sample of fully processed data:\n",
      "             job_id                                   company_name  \\\n",
      "179699  3905351309                           Signature HealthCARE   \n",
      "20013   3887593646                           Keck Medicine of USC   \n",
      "23240   3887872935                                        Netflix   \n",
      "151463  3904577325  TMAC's Direct Hire (Executive Search) Service   \n",
      "131876  3903840980                             FirstChoice Hiring   \n",
      "\n",
      "                                                    title  \\\n",
      "179699                  Certified Nursing Assistant (CNA)   \n",
      "20013   Licensed Vocational Nurse - Emergency Room - F...   \n",
      "23240   Technical Program Manager 6 - Game SDK and Ser...   \n",
      "151463     Field Medical Director, Pediatric Gene Editing   \n",
      "131876       HVAC Technicians / Installers - Capital Heat   \n",
      "\n",
      "                                            description_x  max_salary  \\\n",
      "179699  About Us\\n\\nWelcome to Signature Healthcare of...     80000.0   \n",
      "20013   The Licensed Vocational Nurse (LVN) is an indi...     80000.0   \n",
      "23240   Netflix is one of the world's leading entertai...    725000.0   \n",
      "151463  Field Medical Director (MSL), Pediatric Gene E...     80000.0   \n",
      "131876  2975 Walden Ave., Depew, NY 14043\\n\\nHVAC Tech...     80000.0   \n",
      "\n",
      "       pay_period                   location  company_id  views  min_salary  \\\n",
      "179699        NaN                 Muncie, IN      602239    3.0     60200.0   \n",
      "20013         NaN               Glendale, CA      899708    6.0     60200.0   \n",
      "23240      YEARLY              United States      165158   72.0    240000.0   \n",
      "151463        NaN  New Jersey, United States     9428364    5.0     60200.0   \n",
      "131876        NaN                Buffalo, NY    40693052    4.0     60200.0   \n",
      "\n",
      "        ...            skill_name  \\\n",
      "179699  ...  Health Care Provider   \n",
      "20013   ...  Health Care Provider   \n",
      "23240   ...    Project Management   \n",
      "151463  ...               Science   \n",
      "131876  ...         Manufacturing   \n",
      "\n",
      "                                                 name  \\\n",
      "179699                           Signature HealthCARE   \n",
      "20013                            Keck Medicine of USC   \n",
      "23240                                         Netflix   \n",
      "151463  TMAC's Direct Hire (Executive Search) Service   \n",
      "131876                             FirstChoice Hiring   \n",
      "\n",
      "                                            description_y company_size  \\\n",
      "179699  Signature HealthCARE is a family-based healthc...          7.0   \n",
      "20013   Keck Medicine of USC is the University of Sout...          6.0   \n",
      "23240   Netflix is one of the world's leading entertai...          7.0   \n",
      "151463  TMAC's direct hire service, formerly known as ...          1.0   \n",
      "131876  FirstChoice Hiring is a talent acquisition pla...          1.0   \n",
      "\n",
      "          state country         city zip_code                     address  \\\n",
      "179699       KY      US   Louisville    40299     12201 Bluegrass Parkway   \n",
      "20013        CA      US  Los Angeles    90033       1500 San Pablo Street   \n",
      "23240        CA      US    Los Gatos        0       100 Winchester Circle   \n",
      "151463  Georgia      US     Kennesaw    30144             125 TownPark Dr   \n",
      "131876  Georgia      US      Atlanta    30346  115 Perimeter Center Pl NE   \n",
      "\n",
      "                                                      url  \n",
      "179699  https://www.linkedin.com/company/signature-hea...  \n",
      "20013   https://www.linkedin.com/company/keck-medicine...  \n",
      "23240            https://www.linkedin.com/company/netflix  \n",
      "151463        https://www.linkedin.com/company/tmacdirect  \n",
      "131876  https://www.linkedin.com/company/firstchoice-h...  \n",
      "\n",
      "[5 rows x 34 columns]\n"
     ]
    }
   ],
   "source": [
    "# Final sampling step\n",
    "sampled_data = full_data.sample(frac=0.05, random_state=42).copy()\n",
    "print(\"\\nSample of fully processed data:\\n\", sampled_data.head())"
   ]
  },
  {
   "cell_type": "code",
   "execution_count": 63,
   "id": "275e4469-ddb3-405c-a127-acca16ec3a4c",
   "metadata": {},
   "outputs": [
    {
     "name": "stdout",
     "output_type": "stream",
     "text": [
      "                company_name  min_salary  max_salary salary_range_category\n",
      "0      Corcoran Sawyer Smith        17.0        20.0                   Low\n",
      "2     The National Exemplar      45000.0     65000.0                   Low\n",
      "3     Abrams Fensterman, LLP    140000.0    175000.0                Medium\n",
      "5  Downtown Raleigh Alliance        14.0        20.0                   Low\n",
      "6                 Raw Cereal     60000.0    300000.0                   NaN\n"
     ]
    }
   ],
   "source": [
    "# First, create the salary range and category if not already created\n",
    "job_posting['salary_range'] = job_posting['max_salary'] - job_posting['min_salary']\n",
    "job_posting['salary_range_category'] = pd.cut(job_posting['salary_range'], bins=[0, 20000, 50000, 100000], labels=['Low', 'Medium', 'High'])\n",
    "\n",
    "# Select and print company name, salary details, and the salary range category\n",
    "print(job_posting[['company_name', 'min_salary', 'max_salary', 'salary_range_category']].head())\n"
   ]
  },
  {
   "cell_type": "code",
   "execution_count": 64,
   "id": "3f3ca912-9fd1-46cb-b711-fdc6cd659872",
   "metadata": {},
   "outputs": [
    {
     "name": "stdout",
     "output_type": "stream",
     "text": [
      "                company_name  is_full_time\n",
      "0      Corcoran Sawyer Smith             0\n",
      "2     The National Exemplar              0\n",
      "3     Abrams Fensterman, LLP             0\n",
      "5  Downtown Raleigh Alliance             0\n",
      "6                 Raw Cereal             0\n"
     ]
    }
   ],
   "source": [
    "# Create the is_full_time column if not already created\n",
    "job_posting['is_full_time'] = job_posting['work_type'].apply(lambda x: 1 if x == 'Full-Time' else 0)\n",
    "\n",
    "# Select and print company name and the is_full_time indicator\n",
    "print(job_posting[['company_name', 'is_full_time']].head())\n"
   ]
  },
  {
   "cell_type": "code",
   "execution_count": 47,
   "id": "b52cad3e-b4af-4b73-9cdf-4137a7da4b2e",
   "metadata": {
    "scrolled": true
   },
   "outputs": [
    {
     "name": "stdout",
     "output_type": "stream",
     "text": [
      "            PCA1      PCA2      job_id                     company_name\n",
      "0      -0.348124 -0.085349      921716            Corcoran Sawyer Smith\n",
      "1      -0.349048 -0.188197     1829192                          Unknown\n",
      "2      -0.084354 -0.131589    10998357           The National Exemplar \n",
      "3       0.418452 -0.067948    23221523           Abrams Fensterman, LLP\n",
      "4      -0.010225 -0.173417    35982263                          Unknown\n",
      "...          ...       ...         ...                              ...\n",
      "123844  0.400500 -0.192176  3906267117                     Lozano Smith\n",
      "123845 -0.010225 -0.173417  3906267126                        Pinterest\n",
      "123846 -0.010225 -0.173417  3906267131                     EPS Learning\n",
      "123847 -0.010163 -0.165130  3906267195  Trelleborg Applied Technologies\n",
      "123848  0.008499 -0.181798  3906267224                        Solugenix\n",
      "\n",
      "[123849 rows x 4 columns]\n"
     ]
    }
   ],
   "source": [
    "# Zgjedhja e veçorive numerike për PCA\n",
    "features = job_posting[['max_salary', 'min_salary', 'views', 'applies']]\n",
    "\n",
    "# Imputimi i vlerave të humbura\n",
    "imputer = SimpleImputer(strategy='median')\n",
    "features_imputed = imputer.fit_transform(features)\n",
    "\n",
    "# Normalizimi i të dhënave\n",
    "scaler = StandardScaler()\n",
    "features_scaled = scaler.fit_transform(features_imputed)\n",
    "\n",
    "# Aplikimi i PCA\n",
    "pca = PCA(n_components=2)  # Zgjedhja e dy përbërësve\n",
    "principal_components = pca.fit_transform(features_scaled)\n",
    "\n",
    "# Krijimi i DataFrame për përbërësit\n",
    "pca_df = pd.DataFrame(data=principal_components, columns=['PCA1', 'PCA2'])\n",
    "\n",
    "# Shtimi i kolonave origjinale për identifikim\n",
    "pca_df['job_id'] = job_posting['job_id']\n",
    "pca_df['company_name'] = job_posting['company_name']\n",
    "\n",
    "# Shfaqja e rezultatit\n",
    "print(pca_df)"
   ]
  },
  {
   "cell_type": "code",
   "execution_count": 72,
   "id": "036d2ab7-9fa1-4027-99c7-981bfba34221",
   "metadata": {},
   "outputs": [
    {
     "ename": "NameError",
     "evalue": "name 'os' is not defined",
     "output_type": "error",
     "traceback": [
      "\u001b[0;31m---------------------------------------------------------------------------\u001b[0m",
      "\u001b[0;31mNameError\u001b[0m                                 Traceback (most recent call last)",
      "Cell \u001b[0;32mIn[72], line 3\u001b[0m\n\u001b[1;32m      1\u001b[0m \u001b[38;5;66;03m# Create a new folder named 'processed_data' (you can choose any name)\u001b[39;00m\n\u001b[1;32m      2\u001b[0m folder_name \u001b[38;5;241m=\u001b[39m \u001b[38;5;124m'\u001b[39m\u001b[38;5;124mProcessed_Data\u001b[39m\u001b[38;5;124m'\u001b[39m\n\u001b[0;32m----> 3\u001b[0m \u001b[43mos\u001b[49m\u001b[38;5;241m.\u001b[39mmakedirs(folder_name, exist_ok\u001b[38;5;241m=\u001b[39m\u001b[38;5;28;01mTrue\u001b[39;00m)  \u001b[38;5;66;03m# Creates the folder if it doesn't exist\u001b[39;00m\n\u001b[1;32m      5\u001b[0m \u001b[38;5;66;03m# Save the preprocessed data to a new CSV file in the created folder\u001b[39;00m\n\u001b[1;32m      6\u001b[0m file_path \u001b[38;5;241m=\u001b[39m os\u001b[38;5;241m.\u001b[39mpath\u001b[38;5;241m.\u001b[39mjoin(folder_name, \u001b[38;5;124m'\u001b[39m\u001b[38;5;124mpreprocessed_job_postings.csv\u001b[39m\u001b[38;5;124m'\u001b[39m)\n",
      "\u001b[0;31mNameError\u001b[0m: name 'os' is not defined"
     ]
    }
   ],
   "source": [
    "# Create a new folder named 'processed_data' (you can choose any name)\n",
    "folder_name = 'Processed_Data'\n",
    "os.makedirs(folder_name, exist_ok=True)  # Creates the folder if it doesn't exist\n",
    "\n",
    "# Save the preprocessed data to a new CSV file in the created folder\n",
    "file_path = os.path.join(folder_name, 'preprocessed_job_postings.csv')\n",
    "job_posting.to_csv(file_path, index=False)"
   ]
  },
  {
   "cell_type": "code",
   "execution_count": null,
   "id": "9015f0cd-ce80-4ab8-8ee6-e61b121934e8",
   "metadata": {},
   "outputs": [],
   "source": []
  }
 ],
 "metadata": {
  "kernelspec": {
   "display_name": "Python 3 (ipykernel)",
   "language": "python",
   "name": "python3"
  },
  "language_info": {
   "codemirror_mode": {
    "name": "ipython",
    "version": 3
   },
   "file_extension": ".py",
   "mimetype": "text/x-python",
   "name": "python",
   "nbconvert_exporter": "python",
   "pygments_lexer": "ipython3",
   "version": "3.10.12"
  }
 },
 "nbformat": 4,
 "nbformat_minor": 5
}
