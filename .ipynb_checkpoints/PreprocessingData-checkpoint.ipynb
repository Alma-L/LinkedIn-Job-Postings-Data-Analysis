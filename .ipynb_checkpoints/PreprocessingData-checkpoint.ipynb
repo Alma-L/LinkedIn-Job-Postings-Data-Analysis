{
 "cells": [
  {
   "cell_type": "code",
   "execution_count": 2,
   "id": "361669df-4fca-49ff-bec9-fb202d3ab581",
   "metadata": {},
   "outputs": [],
   "source": [
    "import os\n",
    "import pandas as pd\n",
    "import numpy as np\n",
    "from sklearn.decomposition import PCA\n",
    "from sklearn.impute import SimpleImputer\n",
    "from sklearn.preprocessing import StandardScaler\n",
    "import matplotlib.pyplot as plt"
   ]
  },
  {
   "cell_type": "code",
   "execution_count": 3,
   "id": "a84c3b40-423e-4d6c-b55b-128264610b15",
   "metadata": {},
   "outputs": [],
   "source": [
    "# Load the datasets using the specified paths\n",
    "job_posting = pd.read_csv('./Raw_Data/postings.csv')\n",
    "companies = pd.read_csv('./Raw_Data/companies/companies.csv')\n",
    "job_skills = pd.read_csv('./Raw_Data/jobs/job_skills.csv')\n",
    "mapping_skills = pd.read_csv('./Raw_Data/mappings/skills.csv')"
   ]
  },
  {
   "cell_type": "code",
   "execution_count": 3,
   "id": "7793465e-876f-43d8-9050-ccd385eac0fa",
   "metadata": {},
   "outputs": [],
   "source": [
    "# Companies dataset\n",
    "companies = companies.astype({\n",
    "    'company_id': 'Int64',\n",
    "    'name': 'string',\n",
    "    'company_size': 'float'\n",
    "})\n",
    "\n",
    "# Job postings dataset\n",
    "job_posting = job_posting.astype({\n",
    "    'job_id': 'Int64',\n",
    "    'company_name': 'string',\n",
    "    'min_salary': 'float'\n",
    "})\n",
    "\n",
    "# Job skills dataset\n",
    "job_skills = job_skills.astype({\n",
    "    'job_id': 'Int64',\n",
    "    'skill_abr': 'string'\n",
    "})\n",
    "\n",
    "# Mapping skills dataset\n",
    "mapping_skills = mapping_skills.astype({\n",
    "    'skill_abr': 'string',\n",
    "    'skill_name': 'string'\n",
    "})"
   ]
  },
  {
   "cell_type": "code",
   "execution_count": 4,
   "id": "ec2f4c9b-1713-407d-a06e-edbd5d522e7f",
   "metadata": {},
   "outputs": [],
   "source": [
    "# Check for missing values in each DataFrame\n",
    "missing_values_companies = companies.isnull().sum()\n",
    "missing_values_job_skills = job_skills.isnull().sum()\n",
    "missing_values_skills = mapping_skills.isnull().sum()\n",
    "missing_values_postings = job_posting.isnull().sum()"
   ]
  },
  {
   "cell_type": "code",
   "execution_count": 5,
   "id": "d89b487c-99ee-4bea-9ef8-27b3977b26e2",
   "metadata": {},
   "outputs": [
    {
     "name": "stdout",
     "output_type": "stream",
     "text": [
      "Missing values in companies:\n",
      " company_id         0\n",
      "name               0\n",
      "description      296\n",
      "company_size    2774\n",
      "state             22\n",
      "country            0\n",
      "city               1\n",
      "zip_code          28\n",
      "address           22\n",
      "url                0\n",
      "dtype: int64\n",
      "\n",
      "Missing values in job_skills:\n",
      " job_id       0\n",
      "skill_abr    0\n",
      "dtype: int64\n",
      "\n",
      "Missing values in mapping_skills:\n",
      " skill_abr     0\n",
      "skill_name    0\n",
      "dtype: int64\n",
      "\n",
      "Missing values in job_posting:\n",
      " job_id                             0\n",
      "company_name                    1719\n",
      "title                              0\n",
      "description                        7\n",
      "max_salary                     94056\n",
      "pay_period                     87776\n",
      "location                           0\n",
      "company_id                      1717\n",
      "views                           1689\n",
      "med_salary                    117569\n",
      "min_salary                     94056\n",
      "formatted_work_type                0\n",
      "applies                       100529\n",
      "original_listed_time               0\n",
      "remote_allowed                108603\n",
      "job_posting_url                    0\n",
      "application_url                36665\n",
      "application_type                   0\n",
      "expiry                             0\n",
      "closed_time                   122776\n",
      "formatted_experience_level     29409\n",
      "skills_desc                   121410\n",
      "listed_time                        0\n",
      "posting_domain                 39968\n",
      "sponsored                          0\n",
      "work_type                          0\n",
      "currency                       87776\n",
      "compensation_type              87776\n",
      "normalized_salary              87776\n",
      "zip_code                       20872\n",
      "fips                           27415\n",
      "dtype: int64\n"
     ]
    }
   ],
   "source": [
    "# Display summaries of missing values after handling for verification\n",
    "print(\"Missing values in companies:\\n\", missing_values_companies)\n",
    "print(\"\\nMissing values in job_skills:\\n\", missing_values_job_skills)\n",
    "print(\"\\nMissing values in mapping_skills:\\n\", missing_values_skills)\n",
    "print(\"\\nMissing values in job_posting:\\n\", missing_values_postings)\n"
   ]
  },
  {
   "cell_type": "code",
   "execution_count": 6,
   "id": "a9b6b538-773a-43fa-831d-07becbb5f12c",
   "metadata": {
    "scrolled": true
   },
   "outputs": [
    {
     "data": {
      "text/html": [
       "<div>\n",
       "<style scoped>\n",
       "    .dataframe tbody tr th:only-of-type {\n",
       "        vertical-align: middle;\n",
       "    }\n",
       "\n",
       "    .dataframe tbody tr th {\n",
       "        vertical-align: top;\n",
       "    }\n",
       "\n",
       "    .dataframe thead th {\n",
       "        text-align: right;\n",
       "    }\n",
       "</style>\n",
       "<table border=\"1\" class=\"dataframe\">\n",
       "  <thead>\n",
       "    <tr style=\"text-align: right;\">\n",
       "      <th></th>\n",
       "      <th>job_id</th>\n",
       "      <th>skill_abr</th>\n",
       "      <th>skill_name</th>\n",
       "    </tr>\n",
       "  </thead>\n",
       "  <tbody>\n",
       "    <tr>\n",
       "      <th>0</th>\n",
       "      <td>3884428798</td>\n",
       "      <td>MRKT</td>\n",
       "      <td>Marketing</td>\n",
       "    </tr>\n",
       "    <tr>\n",
       "      <th>1</th>\n",
       "      <td>3884428798</td>\n",
       "      <td>PR</td>\n",
       "      <td>Public Relations</td>\n",
       "    </tr>\n",
       "    <tr>\n",
       "      <th>2</th>\n",
       "      <td>3884428798</td>\n",
       "      <td>WRT</td>\n",
       "      <td>Writing/Editing</td>\n",
       "    </tr>\n",
       "    <tr>\n",
       "      <th>3</th>\n",
       "      <td>3887473071</td>\n",
       "      <td>SALE</td>\n",
       "      <td>Sales</td>\n",
       "    </tr>\n",
       "    <tr>\n",
       "      <th>4</th>\n",
       "      <td>3887465684</td>\n",
       "      <td>FIN</td>\n",
       "      <td>Finance</td>\n",
       "    </tr>\n",
       "  </tbody>\n",
       "</table>\n",
       "</div>"
      ],
      "text/plain": [
       "       job_id skill_abr        skill_name\n",
       "0  3884428798      MRKT         Marketing\n",
       "1  3884428798        PR  Public Relations\n",
       "2  3884428798       WRT   Writing/Editing\n",
       "3  3887473071      SALE             Sales\n",
       "4  3887465684       FIN           Finance"
      ]
     },
     "execution_count": 6,
     "metadata": {},
     "output_type": "execute_result"
    }
   ],
   "source": [
    "# Merge job_skills with mapping_skills to include full skill names\n",
    "job_skills_detailed = job_skills.merge(mapping_skills, on=\"skill_abr\", how=\"left\")\n",
    "# Display the first few rows of the merged data for verification\n",
    "job_skills_detailed.head()"
   ]
  },
  {
   "cell_type": "code",
   "execution_count": 20,
   "id": "f40c2897-36ce-417c-8dae-4eb41ac2bc79",
   "metadata": {},
   "outputs": [],
   "source": [
    "# Fill missing values in the companies DataFrame\n",
    "fill_values = {\n",
    "    'company_size': companies['company_size'].median(),\n",
    "    'description': \"No description provided\",\n",
    "    'state': \"Unknown\",\n",
    "    'city': \"Unknown\",\n",
    "    'zip_code': \"Unknown\",\n",
    "    'address': \"Unknown\"\n",
    "}\n",
    "\n",
    "for column, value in fill_values.items():\n",
    "    companies[column] = companies[column].fillna(value)\n",
    "\n",
    "job_posting.fillna({'company_name': 'Unknown'})\n",
    "job_posting.fillna({'description': 'No description provided'})\n",
    "\n",
    "\n",
    "# Drop rows in job_posting where 'company_id' is missing\n",
    "job_posting.dropna(subset=['company_id'], inplace=True)\n",
    "\n",
    "# Convert 'company_id' to nullable integer to avoid float conversion\n",
    "job_posting['company_id'] = job_posting['company_id'].astype('Int64')\n"
   ]
  },
  {
   "cell_type": "code",
   "execution_count": 21,
   "id": "39c355a1-328d-4437-afb0-148ee514828f",
   "metadata": {},
   "outputs": [
    {
     "name": "stdout",
     "output_type": "stream",
     "text": [
      "Initial missing values in postings:\n",
      " job_id                            0\n",
      "company_name                      2\n",
      "title                             0\n",
      "description                       6\n",
      "max_salary                        0\n",
      "pay_period                    86568\n",
      "location                          0\n",
      "company_id                        0\n",
      "views                          1627\n",
      "min_salary                        0\n",
      "formatted_work_type               0\n",
      "applies                       99236\n",
      "original_listed_time              0\n",
      "application_type                  0\n",
      "expiry                            0\n",
      "formatted_experience_level    27949\n",
      "listed_time                       0\n",
      "posting_domain                38252\n",
      "sponsored                         0\n",
      "work_type                         0\n",
      "currency                      86568\n",
      "compensation_type             86568\n",
      "normalized_salary             86568\n",
      "salary_range                      0\n",
      "salary_range_category          1996\n",
      "season                            0\n",
      "is_full_time                      0\n",
      "dtype: int64\n"
     ]
    }
   ],
   "source": [
    "# Print initial missing values in postings\n",
    "print(\"Initial missing values in postings:\\n\", job_posting.isnull().sum())\n",
    "\n"
   ]
  },
  {
   "cell_type": "code",
   "execution_count": 22,
   "id": "d1a2df95-7dc2-4cb7-9ed6-11e8e2bb8a92",
   "metadata": {},
   "outputs": [],
   "source": [
    "# Calculate median salary values for filling\n",
    "salary_median = job_posting[['max_salary', 'min_salary']].median()\n",
    "job_posting['max_salary'] = job_posting['max_salary'].fillna(salary_median['max_salary'])\n",
    "job_posting['min_salary'] = job_posting['min_salary'].fillna(salary_median['min_salary'])\n",
    "\n",
    "# Drop columns with too many missing values (over 80% missing)\n",
    "columns_to_drop = ['med_salary', 'skills_desc', 'remote_allowed', 'closed_time','zip_code', 'fips', 'job_posting_url', 'application_url']\n",
    "job_posting = job_posting.drop(columns=columns_to_drop, errors='ignore')\n"
   ]
  },
  {
   "cell_type": "code",
   "execution_count": 23,
   "id": "8382381b-8cdc-4150-9051-cb60a5b0365a",
   "metadata": {},
   "outputs": [
    {
     "name": "stdout",
     "output_type": "stream",
     "text": [
      "Final missing values in full_data:\n",
      " job_id                             0\n",
      "company_name                       4\n",
      "title                              0\n",
      "description_x                     11\n",
      "max_salary                         0\n",
      "pay_period                    144438\n",
      "location                           0\n",
      "company_id                         0\n",
      "views                           2802\n",
      "min_salary                         0\n",
      "formatted_work_type                0\n",
      "applies                       165087\n",
      "original_listed_time               0\n",
      "application_type                   0\n",
      "expiry                             0\n",
      "formatted_experience_level     45677\n",
      "listed_time                        0\n",
      "posting_domain                 66789\n",
      "sponsored                          0\n",
      "work_type                          0\n",
      "currency                      144438\n",
      "compensation_type             144438\n",
      "normalized_salary             144438\n",
      "salary_range                       0\n",
      "salary_range_category           3425\n",
      "season                             0\n",
      "is_full_time                       0\n",
      "skill_abr                       1541\n",
      "skill_name                      1541\n",
      "name                               1\n",
      "description_y                      1\n",
      "company_size                       1\n",
      "state                              1\n",
      "country                            1\n",
      "city                               1\n",
      "zip_code                           1\n",
      "address                            1\n",
      "url                                1\n",
      "dtype: int64\n"
     ]
    }
   ],
   "source": [
    "# Integration Step\n",
    "job_data_combined = job_posting.merge(job_skills_detailed, on=\"job_id\", how=\"left\")\n",
    "job_data_combined['company_id'] = job_data_combined['company_id'].astype('Int64')  # Ensure alignment with companies\n",
    "\n",
    "# Now merge job_data_combined with companies on 'company_id' to include company information\n",
    "full_data = job_data_combined.merge(companies, on=\"company_id\", how=\"left\")\n",
    "\n",
    "# Check final missing values in full_data\n",
    "print(\"Final missing values in full_data:\\n\", full_data.isnull().sum())\n"
   ]
  },
  {
   "cell_type": "code",
   "execution_count": 24,
   "id": "b321e8d0-1fb2-4108-ba64-fd243082a2c3",
   "metadata": {},
   "outputs": [
    {
     "name": "stdout",
     "output_type": "stream",
     "text": [
      "Total job postings per company:\n",
      "                          name  total_jobs\n",
      "0                         IBM          33\n",
      "1               GE HealthCare          85\n",
      "2  Hewlett Packard Enterprise          24\n",
      "3                      Oracle         127\n",
      "4                   Accenture          37\n"
     ]
    }
   ],
   "source": [
    "# Aggregation examples\n",
    "job_count_per_company = full_data.groupby(\"company_id\")['job_id'].count().reset_index()\n",
    "job_count_per_company.rename(columns={\"job_id\": \"total_jobs\"}, inplace=True)\n",
    "job_count_per_company = job_count_per_company.merge(companies[['company_id', 'name']], on='company_id', how='left')\n",
    "\n",
    "print(\"Total job postings per company:\\n\", job_count_per_company[['name', 'total_jobs']].head())\n"
   ]
  },
  {
   "cell_type": "code",
   "execution_count": 25,
   "id": "75183874-3d50-427e-86e7-81b983589b0d",
   "metadata": {},
   "outputs": [
    {
     "name": "stdout",
     "output_type": "stream",
     "text": [
      "Top required skills across all jobs:\n",
      "                skill_name  count\n",
      "0  Information Technology  26137\n",
      "1                   Sales  22475\n",
      "2              Management  20861\n",
      "3           Manufacturing  18185\n",
      "4    Health Care Provider  17369\n"
     ]
    }
   ],
   "source": [
    "skill_count = job_skills_detailed['skill_name'].value_counts().reset_index()\n",
    "skill_count.columns = ['skill_name', 'count']\n",
    "print(\"Top required skills across all jobs:\\n\", skill_count.head())"
   ]
  },
  {
   "cell_type": "code",
   "execution_count": 26,
   "id": "5dc0cfe1-b412-449a-9040-5bc541d6af01",
   "metadata": {},
   "outputs": [],
   "source": [
    "# Drop duplicates\n",
    "full_data.drop_duplicates(inplace=True)"
   ]
  },
  {
   "cell_type": "code",
   "execution_count": 27,
   "id": "249aa6d4-a36b-4507-a9f3-11ffc4f456c7",
   "metadata": {},
   "outputs": [
    {
     "name": "stdout",
     "output_type": "stream",
     "text": [
      "\n",
      "Sample of fully processed data:\n",
      "             job_id                                   company_name  \\\n",
      "179699  3905351309                           Signature HealthCARE   \n",
      "20013   3887593646                           Keck Medicine of USC   \n",
      "23240   3887872935                                        Netflix   \n",
      "151463  3904577325  TMAC's Direct Hire (Executive Search) Service   \n",
      "131876  3903840980                             FirstChoice Hiring   \n",
      "\n",
      "                                                    title  \\\n",
      "179699                  Certified Nursing Assistant (CNA)   \n",
      "20013   Licensed Vocational Nurse - Emergency Room - F...   \n",
      "23240   Technical Program Manager 6 - Game SDK and Ser...   \n",
      "151463     Field Medical Director, Pediatric Gene Editing   \n",
      "131876       HVAC Technicians / Installers - Capital Heat   \n",
      "\n",
      "                                            description_x  max_salary  \\\n",
      "179699  About Us\\n\\nWelcome to Signature Healthcare of...     80000.0   \n",
      "20013   The Licensed Vocational Nurse (LVN) is an indi...     80000.0   \n",
      "23240   Netflix is one of the world's leading entertai...    725000.0   \n",
      "151463  Field Medical Director (MSL), Pediatric Gene E...     80000.0   \n",
      "131876  2975 Walden Ave., Depew, NY 14043\\n\\nHVAC Tech...     80000.0   \n",
      "\n",
      "       pay_period                   location  company_id  views  min_salary  \\\n",
      "179699        NaN                 Muncie, IN      602239    3.0     60200.0   \n",
      "20013         NaN               Glendale, CA      899708    6.0     60200.0   \n",
      "23240      YEARLY              United States      165158   72.0    240000.0   \n",
      "151463        NaN  New Jersey, United States     9428364    5.0     60200.0   \n",
      "131876        NaN                Buffalo, NY    40693052    4.0     60200.0   \n",
      "\n",
      "        ...            skill_name  \\\n",
      "179699  ...  Health Care Provider   \n",
      "20013   ...  Health Care Provider   \n",
      "23240   ...    Project Management   \n",
      "151463  ...               Science   \n",
      "131876  ...         Manufacturing   \n",
      "\n",
      "                                                 name  \\\n",
      "179699                           Signature HealthCARE   \n",
      "20013                            Keck Medicine of USC   \n",
      "23240                                         Netflix   \n",
      "151463  TMAC's Direct Hire (Executive Search) Service   \n",
      "131876                             FirstChoice Hiring   \n",
      "\n",
      "                                            description_y company_size  \\\n",
      "179699  Signature HealthCARE is a family-based healthc...          7.0   \n",
      "20013   Keck Medicine of USC is the University of Sout...          6.0   \n",
      "23240   Netflix is one of the world's leading entertai...          7.0   \n",
      "151463  TMAC's direct hire service, formerly known as ...          1.0   \n",
      "131876  FirstChoice Hiring is a talent acquisition pla...          1.0   \n",
      "\n",
      "          state country         city zip_code                     address  \\\n",
      "179699       KY      US   Louisville    40299     12201 Bluegrass Parkway   \n",
      "20013        CA      US  Los Angeles    90033       1500 San Pablo Street   \n",
      "23240        CA      US    Los Gatos        0       100 Winchester Circle   \n",
      "151463  Georgia      US     Kennesaw    30144             125 TownPark Dr   \n",
      "131876  Georgia      US      Atlanta    30346  115 Perimeter Center Pl NE   \n",
      "\n",
      "                                                      url  \n",
      "179699  https://www.linkedin.com/company/signature-hea...  \n",
      "20013   https://www.linkedin.com/company/keck-medicine...  \n",
      "23240            https://www.linkedin.com/company/netflix  \n",
      "151463        https://www.linkedin.com/company/tmacdirect  \n",
      "131876  https://www.linkedin.com/company/firstchoice-h...  \n",
      "\n",
      "[5 rows x 38 columns]\n"
     ]
    }
   ],
   "source": [
    "# Final sampling step\n",
    "sampled_data = full_data.sample(frac=0.05, random_state=42).copy()\n",
    "print(\"\\nSample of fully processed data:\\n\", sampled_data.head())"
   ]
  },
  {
   "cell_type": "code",
   "execution_count": 28,
   "id": "275e4469-ddb3-405c-a127-acca16ec3a4c",
   "metadata": {},
   "outputs": [
    {
     "name": "stdout",
     "output_type": "stream",
     "text": [
      "                company_name  min_salary  max_salary salary_range_category\n",
      "0      Corcoran Sawyer Smith        17.0        20.0                   Low\n",
      "2     The National Exemplar      45000.0     65000.0                   Low\n",
      "3     Abrams Fensterman, LLP    140000.0    175000.0                Medium\n",
      "5  Downtown Raleigh Alliance        14.0        20.0                   Low\n",
      "6                 Raw Cereal     60000.0    300000.0                   NaN\n"
     ]
    }
   ],
   "source": [
    "# First, create the salary range and category if not already created\n",
    "job_posting['salary_range'] = job_posting['max_salary'] - job_posting['min_salary']\n",
    "job_posting['salary_range_category'] = pd.cut(job_posting['salary_range'], bins=[0, 20000, 50000, 100000], labels=['Low', 'Medium', 'High'])\n",
    "\n",
    "# Select and print company name, salary details, and the salary range category\n",
    "print(job_posting[['company_name', 'min_salary', 'max_salary', 'salary_range_category']].head())\n"
   ]
  },
  {
   "cell_type": "code",
   "execution_count": 29,
   "id": "ba613657-bdd9-412e-8149-c304c8ea6761",
   "metadata": {},
   "outputs": [
    {
     "data": {
      "text/html": [
       "<style type=\"text/css\">\n",
       "</style>\n",
       "<table id=\"T_3260e\" style=\"width: 50%; margin: auto;\">\n",
       "  <caption>Random Job Postings with Original Listed Time and Season</caption>\n",
       "  <thead>\n",
       "    <tr>\n",
       "      <th class=\"blank level0\" >&nbsp;</th>\n",
       "      <th id=\"T_3260e_level0_col0\" class=\"col_heading level0 col0\" >original_listed_time</th>\n",
       "      <th id=\"T_3260e_level0_col1\" class=\"col_heading level0 col1\" >season</th>\n",
       "    </tr>\n",
       "  </thead>\n",
       "  <tbody>\n",
       "    <tr>\n",
       "      <th id=\"T_3260e_level0_row0\" class=\"row_heading level0 row0\" >46016</th>\n",
       "      <td id=\"T_3260e_row0_col0\" class=\"data row0 col0\" >2024-04-17 22:26:32</td>\n",
       "      <td id=\"T_3260e_row0_col1\" class=\"data row0 col1\" >Spring</td>\n",
       "    </tr>\n",
       "    <tr>\n",
       "      <th id=\"T_3260e_level0_row1\" class=\"row_heading level0 row1\" >88336</th>\n",
       "      <td id=\"T_3260e_row1_col0\" class=\"data row1 col0\" >2024-04-17 23:02:56</td>\n",
       "      <td id=\"T_3260e_row1_col1\" class=\"data row1 col1\" >Spring</td>\n",
       "    </tr>\n",
       "    <tr>\n",
       "      <th id=\"T_3260e_level0_row2\" class=\"row_heading level0 row2\" >71548</th>\n",
       "      <td id=\"T_3260e_row2_col0\" class=\"data row2 col0\" >2024-04-19 00:00:00</td>\n",
       "      <td id=\"T_3260e_row2_col1\" class=\"data row2 col1\" >Spring</td>\n",
       "    </tr>\n",
       "    <tr>\n",
       "      <th id=\"T_3260e_level0_row3\" class=\"row_heading level0 row3\" >101909</th>\n",
       "      <td id=\"T_3260e_row3_col0\" class=\"data row3 col0\" >2024-04-18 19:44:54</td>\n",
       "      <td id=\"T_3260e_row3_col1\" class=\"data row3 col1\" >Spring</td>\n",
       "    </tr>\n",
       "    <tr>\n",
       "      <th id=\"T_3260e_level0_row4\" class=\"row_heading level0 row4\" >31934</th>\n",
       "      <td id=\"T_3260e_row4_col0\" class=\"data row4 col0\" >2024-04-11 16:59:46</td>\n",
       "      <td id=\"T_3260e_row4_col1\" class=\"data row4 col1\" >Spring</td>\n",
       "    </tr>\n",
       "    <tr>\n",
       "      <th id=\"T_3260e_level0_row5\" class=\"row_heading level0 row5\" >119893</th>\n",
       "      <td id=\"T_3260e_row5_col0\" class=\"data row5 col0\" >2024-04-19 21:29:14</td>\n",
       "      <td id=\"T_3260e_row5_col1\" class=\"data row5 col1\" >Spring</td>\n",
       "    </tr>\n",
       "    <tr>\n",
       "      <th id=\"T_3260e_level0_row6\" class=\"row_heading level0 row6\" >80520</th>\n",
       "      <td id=\"T_3260e_row6_col0\" class=\"data row6 col0\" >2024-04-18 00:00:00</td>\n",
       "      <td id=\"T_3260e_row6_col1\" class=\"data row6 col1\" >Spring</td>\n",
       "    </tr>\n",
       "    <tr>\n",
       "      <th id=\"T_3260e_level0_row7\" class=\"row_heading level0 row7\" >16444</th>\n",
       "      <td id=\"T_3260e_row7_col0\" class=\"data row7 col0\" >2024-04-05 00:00:00</td>\n",
       "      <td id=\"T_3260e_row7_col1\" class=\"data row7 col1\" >Spring</td>\n",
       "    </tr>\n",
       "    <tr>\n",
       "      <th id=\"T_3260e_level0_row8\" class=\"row_heading level0 row8\" >23081</th>\n",
       "      <td id=\"T_3260e_row8_col0\" class=\"data row8 col0\" >2024-04-09 12:39:56</td>\n",
       "      <td id=\"T_3260e_row8_col1\" class=\"data row8 col1\" >Spring</td>\n",
       "    </tr>\n",
       "    <tr>\n",
       "      <th id=\"T_3260e_level0_row9\" class=\"row_heading level0 row9\" >24392</th>\n",
       "      <td id=\"T_3260e_row9_col0\" class=\"data row9 col0\" >2024-04-11 17:56:35</td>\n",
       "      <td id=\"T_3260e_row9_col1\" class=\"data row9 col1\" >Spring</td>\n",
       "    </tr>\n",
       "  </tbody>\n",
       "</table>\n"
      ],
      "text/plain": [
       "<pandas.io.formats.style.Styler at 0x1cb36df5bb0>"
      ]
     },
     "execution_count": 29,
     "metadata": {},
     "output_type": "execute_result"
    }
   ],
   "source": [
    "\n",
    "# Assuming 'listed_time' is in milliseconds, convert it to datetime\n",
    "job_posting['original_listed_time'] = pd.to_datetime(job_posting['original_listed_time'], unit='ms')\n",
    "\n",
    "\n",
    "# Function to categorize seasons based on month\n",
    "def get_season(date):\n",
    "    if date.month in [12, 1, 2]:  # December to February\n",
    "        return 'Winter'\n",
    "    elif date.month in [3, 4, 5]:  # March to May\n",
    "        return 'Spring'\n",
    "    elif date.month in [6, 7, 8]:  # June to August\n",
    "        return 'Summer'\n",
    "    else:  # September to November\n",
    "        return 'Fall'\n",
    "\n",
    "# Apply the function to create a new column 'season'\n",
    "job_posting['season'] = job_posting['original_listed_time'].apply(get_season)\n",
    "\n",
    "# Display random entries with styled output\n",
    "random_sample = job_posting[['original_listed_time', 'season']].sample(n=10, random_state=1).style.set_table_attributes('style=\"width: 50%; margin: auto;\"').set_caption(\"Random Job Postings with Original Listed Time and Season\")\n",
    "\n",
    "# Render the styled output\n",
    "random_sample\n"
   ]
  },
  {
   "cell_type": "code",
   "execution_count": 30,
   "id": "bad7efa6-91b7-4cd8-95a4-92ba8ad9bdd4",
   "metadata": {},
   "outputs": [
    {
     "name": "stdout",
     "output_type": "stream",
     "text": [
      "\n",
      "Original Listed Time  Date Counts by Season\n",
      "Winter: 16\n",
      "Spring: 122116\n",
      "Summer: 0\n",
      "Fall: 0\n"
     ]
    }
   ],
   "source": [
    "# Define all seasons with initial count of zero\n",
    "all_seasons = {\"Winter\": 0, \"Spring\": 0, \"Summer\": 0, \"Fall\": 0}\n",
    "\n",
    "# Count occurrences of each season in the 'expiry' column\n",
    "season_counts = job_posting['season'].value_counts().to_dict()\n",
    "\n",
    "# Update the all_seasons dictionary with actual counts\n",
    "all_seasons.update(season_counts)\n",
    "\n",
    "# Display the complete season counts including Winter\n",
    "print(\"\\nOriginal Listed Time  Date Counts by Season\")\n",
    "for season, count in all_seasons.items():\n",
    "    print(f\"{season}: {count}\")"
   ]
  },
  {
   "cell_type": "code",
   "execution_count": 31,
   "id": "3f3ca912-9fd1-46cb-b711-fdc6cd659872",
   "metadata": {},
   "outputs": [
    {
     "name": "stdout",
     "output_type": "stream",
     "text": [
      "                company_name  is_full_time\n",
      "0      Corcoran Sawyer Smith             0\n",
      "2     The National Exemplar              0\n",
      "3     Abrams Fensterman, LLP             0\n",
      "5  Downtown Raleigh Alliance             0\n",
      "6                 Raw Cereal             0\n"
     ]
    }
   ],
   "source": [
    "# Create the is_full_time column if not already created\n",
    "job_posting['is_full_time'] = job_posting['work_type'].apply(lambda x: 1 if x == 'Full-Time' else 0)\n",
    "\n",
    "# Select and print company name and the is_full_time indicator\n",
    "print(job_posting[['company_name', 'is_full_time']].head())\n"
   ]
  },
  {
   "cell_type": "code",
   "execution_count": 32,
   "id": "b52cad3e-b4af-4b73-9cdf-4137a7da4b2e",
   "metadata": {
    "scrolled": true
   },
   "outputs": [
    {
     "name": "stdout",
     "output_type": "stream",
     "text": [
      "            PCA1      PCA2      job_id                      company_name\n",
      "0      -0.346517 -0.085717      921716             Corcoran Sawyer Smith\n",
      "1      -0.084540 -0.130993        <NA>                              <NA>\n",
      "2       0.414807 -0.067497    10998357            The National Exemplar \n",
      "3      -0.346875 -0.066296    23221523            Abrams Fensterman, LLP\n",
      "4       0.438256 -0.252185        <NA>                              <NA>\n",
      "...          ...       ...         ...                               ...\n",
      "122127  0.397005 -0.191231  3906251986                 BAE Systems, Inc.\n",
      "122128 -0.010333 -0.172640  3906251989                 BAE Systems, Inc.\n",
      "122129 -0.010333 -0.172640  3906251990                 BAE Systems, Inc.\n",
      "122130 -0.010273 -0.164386  3906251999                      Job Juncture\n",
      "122131  0.007687 -0.180980  3906252016  K&A Engineering Consulting, P.C.\n",
      "\n",
      "[122132 rows x 4 columns]\n"
     ]
    }
   ],
   "source": [
    "# Zgjedhja e veçorive numerike për PCA\n",
    "features = job_posting[['max_salary', 'min_salary', 'views', 'applies']]\n",
    "\n",
    "# Imputimi i vlerave të humbura\n",
    "imputer = SimpleImputer(strategy='median')\n",
    "features_imputed = imputer.fit_transform(features)\n",
    "\n",
    "# Normalizimi i të dhënave\n",
    "scaler = StandardScaler()\n",
    "features_scaled = scaler.fit_transform(features_imputed)\n",
    "\n",
    "# Aplikimi i PCA\n",
    "pca = PCA(n_components=2)  # Zgjedhja e dy përbërësve\n",
    "principal_components = pca.fit_transform(features_scaled)\n",
    "\n",
    "# Krijimi i DataFrame për përbërësit\n",
    "pca_df = pd.DataFrame(data=principal_components, columns=['PCA1', 'PCA2'])\n",
    "\n",
    "# Shtimi i kolonave origjinale për identifikim\n",
    "pca_df['job_id'] = job_posting['job_id']\n",
    "pca_df['company_name'] = job_posting['company_name']\n",
    "\n",
    "# Shfaqja e rezultatit\n",
    "print(pca_df)"
   ]
  },
  {
   "cell_type": "code",
   "execution_count": 18,
   "id": "036d2ab7-9fa1-4027-99c7-981bfba34221",
   "metadata": {},
   "outputs": [],
   "source": [
    "# Create a new folder named 'processed_data' (you can choose any name)\n",
    "folder_name = 'Processed_data'\n",
    "os.makedirs(folder_name, exist_ok=True)  # Creates the folder if it doesn't exist\n",
    "# Save the preprocessed data to a new CSV file in the created folder\n",
    "job_posting.to_csv(os.path.join(folder_name, 'preprocessed_job_postings.csv'), index=False)\n",
    "companies.to_csv(os.path.join(folder_name, 'companies.csv'), index=False)\n",
    "job_skills.to_csv(os.path.join(folder_name, 'job_skills.csv'), index=False)\n",
    "mapping_skills.to_csv(os.path.join(folder_name, 'mapping_skills.csv'), index=False)\n"
   ]
  },
  {
   "cell_type": "code",
   "execution_count": 17,
   "id": "9831e93f-cf05-472b-b1f9-f4871b2fedbc",
   "metadata": {},
   "outputs": [
    {
     "data": {
      "image/png": "[encoded data removed]",
      "text/plain": [
       "<Figure size 1200x600 with 1 Axes>"
      ]
     },
     "metadata": {},
     "output_type": "display_data"
    }
   ],
   "source": [
    "import pandas as pd\n",
    "import seaborn as sns\n",
    "import matplotlib.pyplot as plt\n",
    "\n",
    "# Ensure 'original_listed_time' is in datetime format\n",
    "job_posting['original_listed_time'] = pd.to_datetime(job_posting['original_listed_time'], unit='ms')\n",
    "\n",
    "# Extract the month from 'original_listed_time'\n",
    "job_posting['month'] = job_posting['original_listed_time'].dt.month\n",
    "\n",
    "# Plot the density of job postings by month\n",
    "plt.figure(figsize=(12, 6))\n",
    "sns.kdeplot(data=job_posting, x='month', fill=True, alpha=0.5, linewidth=2, color='skyblue')\n",
    "plt.title('Density of Job Postings by Month', fontsize=16)\n",
    "plt.xlabel('Month', fontsize=12)\n",
    "plt.ylabel('Density', fontsize=12)\n",
    "plt.xticks(ticks=range(1, 13), labels=['Jan', 'Feb', 'Mar', 'Apr', 'May', 'Jun', \n",
    "                                       'Jul', 'Aug', 'Sep', 'Oct', 'Nov', 'Dec'], rotation=45)\n",
    "plt.grid(axis='y', linestyle='--', alpha=0.7)\n",
    "plt.show()\n",
    "\n",
    "\n"
   ]
  },
  {
   "cell_type": "code",
   "execution_count": 12,
   "id": "c2a08b9b-f9d5-4614-96e3-0bc1c77d8be8",
   "metadata": {},
   "outputs": [
    {
     "name": "stdout",
     "output_type": "stream",
     "text": [
      "          min_salary     max_salary\n",
      "count   29322.000000   29322.000000\n",
      "mean    59046.888252   81969.727983\n",
      "std     55650.299135   78648.676435\n",
      "min         1.000000       1.000000\n",
      "25%        35.000000      47.000000\n",
      "50%     60000.000000   80000.000000\n",
      "75%     98712.500000  135000.000000\n",
      "max    249645.000000  340100.000000\n"
     ]
    }
   ],
   "source": [
    "# Detect outliers using IQR\n",
    "def remove_outliers_iqr(df, columns):\n",
    "    for column in columns:\n",
    "        Q1 = df[column].quantile(0.25)\n",
    "        Q3 = df[column].quantile(0.75)\n",
    "        IQR = Q3 - Q1\n",
    "        lower_bound = Q1 - 1.5 * IQR\n",
    "        upper_bound = Q3 + 1.5 * IQR\n",
    "        df = df[(df[column] >= lower_bound) & (df[column] <= upper_bound)]\n",
    "    return df\n",
    "\n",
    "# Apply to salary columns\n",
    "job_posting = remove_outliers_iqr(job_posting, ['min_salary', 'max_salary'])\n",
    "\n",
    "# Verify remaining rows\n",
    "print(job_posting[['min_salary', 'max_salary']].describe())\n"
   ]
  },
  {
   "cell_type": "code",
   "execution_count": 13,
   "id": "900e4dcf-1c52-479d-8d69-64531e35ad3c",
   "metadata": {},
   "outputs": [
    {
     "name": "stdout",
     "output_type": "stream",
     "text": [
      "          min_salary     max_salary\n",
      "count   18272.000000   18272.000000\n",
      "mean    94435.614405  130880.521156\n",
      "std     40053.829313   58667.052411\n",
      "min     10000.000000   12000.000000\n",
      "25%     65000.000000   85000.000000\n",
      "50%     86840.000000  120000.000000\n",
      "75%    120000.000000  165000.000000\n",
      "max    245000.000000  337250.000000\n"
     ]
    },
    {
     "data": {
      "image/png": "[encoded data removed]",
      "text/plain": [
       "<Figure size 1200x600 with 1 Axes>"
      ]
     },
     "metadata": {},
     "output_type": "display_data"
    }
   ],
   "source": [
    "# Function to remove outliers using IQR\n",
    "def remove_outliers_iqr(df, column):\n",
    "    Q1 = df[column].quantile(0.25)\n",
    "    Q3 = df[column].quantile(0.75)\n",
    "    IQR = Q3 - Q1\n",
    "    lower_bound = Q1 - 1.5 * IQR\n",
    "    upper_bound = Q3 + 1.5 * IQR\n",
    "    return df[(df[column] >= lower_bound) & (df[column] <= upper_bound)]\n",
    "\n",
    "# Filter outliers for min_salary and max_salary\n",
    "job_posting = remove_outliers_iqr(job_posting, 'min_salary')\n",
    "job_posting = remove_outliers_iqr(job_posting, 'max_salary')\n",
    "\n",
    "# Remove salaries below a reasonable threshold\n",
    "min_salary_threshold = 10000\n",
    "job_posting = job_posting[job_posting['min_salary'] >= min_salary_threshold]\n",
    "\n",
    "# Display summary statistics after cleaning\n",
    "print(job_posting[['min_salary', 'max_salary']].describe())\n",
    "\n",
    "# Optional: Plot the distributions to visualize the impact of outlier removal\n",
    "import matplotlib.pyplot as plt\n",
    "\n",
    "plt.figure(figsize=(12, 6))\n",
    "job_posting['min_salary'].hist(bins=30, alpha=0.7, label='Min Salary')\n",
    "job_posting['max_salary'].hist(bins=30, alpha=0.7, label='Max Salary')\n",
    "plt.title('Salary Distributions After Outlier Removal', fontsize=16)\n",
    "plt.xlabel('Salary', fontsize=12)\n",
    "plt.ylabel('Frequency', fontsize=12)\n",
    "plt.legend()\n",
    "plt.grid(axis='y', linestyle='--', alpha=0.7)\n",
    "plt.show()\n"
   ]
  },
  {
   "cell_type": "code",
   "execution_count": null,
   "id": "d67a5a5d-0313-451c-9d05-3dcb5a2f6a6f",
   "metadata": {},
   "outputs": [],
   "source": []
  }
 ],
 "metadata": {
  "kernelspec": {
   "display_name": "Python 3 (ipykernel)",
   "language": "python",
   "name": "python3"
  },
  "language_info": {
   "codemirror_mode": {
    "name": "ipython",
    "version": 3
   },
   "file_extension": ".py",
   "mimetype": "text/x-python",
   "name": "python",
   "nbconvert_exporter": "python",
   "pygments_lexer": "ipython3",
   "version": "3.9.13"
  }
 },
 "nbformat": 4,
 "nbformat_minor": 5
}
