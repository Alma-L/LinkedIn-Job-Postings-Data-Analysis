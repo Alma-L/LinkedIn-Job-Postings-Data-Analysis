{
 "cells": [
  {
   "cell_type": "code",
   "execution_count": 1,
   "id": "361669df-4fca-49ff-bec9-fb202d3ab581",
   "metadata": {},
   "outputs": [],
   "source": [
    "import pandas as pd\n",
    "import numpy as np\n",
    "from sklearn.decomposition import PCA\n",
    "from sklearn.impute import SimpleImputer\n",
    "from sklearn.preprocessing import StandardScaler\n",
    "import matplotlib.pyplot as plt"
   ]
  },
  {
   "cell_type": "code",
   "execution_count": 2,
   "id": "a84c3b40-423e-4d6c-b55b-128264610b15",
   "metadata": {},
   "outputs": [],
   "source": [
    "# Load the datasets using the specified paths\n",
    "job_posting = pd.read_csv('./Raw_Data/postings.csv')\n",
    "companies = pd.read_csv('./Raw_Data/companies/companies.csv')\n",
    "job_skills = pd.read_csv('./Raw_Data/jobs/job_skills.csv')\n",
    "mapping_skills = pd.read_csv('./Raw_Data/mappings/skills.csv')"
   ]
  },
  {
   "cell_type": "code",
   "execution_count": 3,
   "id": "7793465e-876f-43d8-9050-ccd385eac0fa",
   "metadata": {},
   "outputs": [],
   "source": [
    "# Companies dataset\n",
    "companies['company_id'] = companies['company_id'].astype('Int64')  \n",
    "companies['name'] = companies['name'].astype('string')  \n",
    "companies['company_size'] = pd.to_numeric(companies['company_size'], errors='coerce')  \n",
    "\n",
    "# Job postings dataset\n",
    "job_posting['job_id'] = job_posting['job_id'].astype('Int64')\n",
    "job_posting['company_name'] = job_posting['company_name'].astype('string')\n",
    "job_posting['min_salary'] = pd.to_numeric(job_posting['min_salary'], errors='coerce') \n",
    "\n",
    "# Job skills dataset\n",
    "job_skills['job_id'] = job_skills['job_id'].astype('Int64')\n",
    "job_skills['skill_abr'] = job_skills['skill_abr'].astype('string')  \n",
    "\n",
    "# Mapping skills dataset\n",
    "mapping_skills['skill_abr'] = mapping_skills['skill_abr'].astype('string')\n",
    "mapping_skills['skill_name'] = mapping_skills['skill_name'].astype('string')\n"
   ]
  },
  {
   "cell_type": "code",
   "execution_count": 4,
   "id": "a9b6b538-773a-43fa-831d-07becbb5f12c",
   "metadata": {
    "scrolled": true
   },
   "outputs": [
    {
     "data": {
      "text/html": [
       "<div>\n",
       "<style scoped>\n",
       "    .dataframe tbody tr th:only-of-type {\n",
       "        vertical-align: middle;\n",
       "    }\n",
       "\n",
       "    .dataframe tbody tr th {\n",
       "        vertical-align: top;\n",
       "    }\n",
       "\n",
       "    .dataframe thead th {\n",
       "        text-align: right;\n",
       "    }\n",
       "</style>\n",
       "<table border=\"1\" class=\"dataframe\">\n",
       "  <thead>\n",
       "    <tr style=\"text-align: right;\">\n",
       "      <th></th>\n",
       "      <th>job_id</th>\n",
       "      <th>skill_abr</th>\n",
       "      <th>skill_name</th>\n",
       "    </tr>\n",
       "  </thead>\n",
       "  <tbody>\n",
       "    <tr>\n",
       "      <th>0</th>\n",
       "      <td>3884428798</td>\n",
       "      <td>MRKT</td>\n",
       "      <td>Marketing</td>\n",
       "    </tr>\n",
       "    <tr>\n",
       "      <th>1</th>\n",
       "      <td>3884428798</td>\n",
       "      <td>PR</td>\n",
       "      <td>Public Relations</td>\n",
       "    </tr>\n",
       "    <tr>\n",
       "      <th>2</th>\n",
       "      <td>3884428798</td>\n",
       "      <td>WRT</td>\n",
       "      <td>Writing/Editing</td>\n",
       "    </tr>\n",
       "    <tr>\n",
       "      <th>3</th>\n",
       "      <td>3887473071</td>\n",
       "      <td>SALE</td>\n",
       "      <td>Sales</td>\n",
       "    </tr>\n",
       "    <tr>\n",
       "      <th>4</th>\n",
       "      <td>3887465684</td>\n",
       "      <td>FIN</td>\n",
       "      <td>Finance</td>\n",
       "    </tr>\n",
       "  </tbody>\n",
       "</table>\n",
       "</div>"
      ],
      "text/plain": [
       "       job_id skill_abr        skill_name\n",
       "0  3884428798      MRKT         Marketing\n",
       "1  3884428798        PR  Public Relations\n",
       "2  3884428798       WRT   Writing/Editing\n",
       "3  3887473071      SALE             Sales\n",
       "4  3887465684       FIN           Finance"
      ]
     },
     "execution_count": 4,
     "metadata": {},
     "output_type": "execute_result"
    }
   ],
   "source": [
    "# Merge job_skills with mapping_skills to include full skill names\n",
    "job_skills_detailed = job_skills.merge(mapping_skills, on=\"skill_abr\", how=\"left\")\n",
    "# Display the first few rows of the merged data for verification\n",
    "job_skills_detailed.head()"
   ]
  },
  {
   "cell_type": "code",
   "execution_count": 7,
   "id": "ec2f4c9b-1713-407d-a06e-edbd5d522e7f",
   "metadata": {},
   "outputs": [],
   "source": [
    "# Check for missing values in each DataFrame\n",
    "missing_values_companies = companies.isnull().sum()\n",
    "missing_values_job_skills = job_skills.isnull().sum()\n",
    "missing_values_skills = mapping_skills.isnull().sum()\n",
    "missing_values_postings = job_posting.isnull().sum()"
   ]
  },
  {
   "cell_type": "code",
   "execution_count": 8,
   "id": "d89b487c-99ee-4bea-9ef8-27b3977b26e2",
   "metadata": {},
   "outputs": [
    {
     "name": "stdout",
     "output_type": "stream",
     "text": [
      "Missing values in companies:\n",
      " company_id         0\n",
      "name               0\n",
      "description      296\n",
      "company_size    2774\n",
      "state             22\n",
      "country            0\n",
      "city               1\n",
      "zip_code          28\n",
      "address           22\n",
      "url                0\n",
      "dtype: int64\n",
      "\n",
      "Missing values in job_skills:\n",
      " job_id       0\n",
      "skill_abr    0\n",
      "dtype: int64\n",
      "\n",
      "Missing values in mapping_skills:\n",
      " skill_abr     0\n",
      "skill_name    0\n",
      "dtype: int64\n",
      "\n",
      "Missing values in job_posting:\n",
      " job_id                             0\n",
      "company_name                    1719\n",
      "title                              0\n",
      "description                        7\n",
      "max_salary                     94056\n",
      "pay_period                     87776\n",
      "location                           0\n",
      "company_id                      1717\n",
      "views                           1689\n",
      "med_salary                    117569\n",
      "min_salary                     94056\n",
      "formatted_work_type                0\n",
      "applies                       100529\n",
      "original_listed_time               0\n",
      "remote_allowed                108603\n",
      "job_posting_url                    0\n",
      "application_url                36665\n",
      "application_type                   0\n",
      "expiry                             0\n",
      "closed_time                   122776\n",
      "formatted_experience_level     29409\n",
      "skills_desc                   121410\n",
      "listed_time                        0\n",
      "posting_domain                 39968\n",
      "sponsored                          0\n",
      "work_type                          0\n",
      "currency                       87776\n",
      "compensation_type              87776\n",
      "normalized_salary              87776\n",
      "zip_code                       20872\n",
      "fips                           27415\n",
      "dtype: int64\n"
     ]
    }
   ],
   "source": [
    "# Display summaries of missing values after handling for verification\n",
    "print(\"Missing values in companies:\\n\", missing_values_companies)\n",
    "print(\"\\nMissing values in job_skills:\\n\", missing_values_job_skills)\n",
    "print(\"\\nMissing values in mapping_skills:\\n\", missing_values_skills)\n",
    "print(\"\\nMissing values in job_posting:\\n\", missing_values_postings)\n"
   ]
  },
  {
   "cell_type": "code",
   "execution_count": 32,
   "id": "f40c2897-36ce-417c-8dae-4eb41ac2bc79",
   "metadata": {},
   "outputs": [],
   "source": [
    "# Fill missing values in the companies DataFrame\n",
    "fill_values = {\n",
    "    'company_size': companies['company_size'].median(),\n",
    "    'description': \"No description provided\",\n",
    "    'state': \"Unknown\",\n",
    "    'city': \"Unknown\",\n",
    "    'zip_code': \"Unknown\",\n",
    "    'address': \"Unknown\"\n",
    "}\n",
    "\n",
    "for column, value in fill_values.items():\n",
    "    companies[column] = companies[column].fillna(value)\n",
    "    \n",
    "# Fill missing company names with 'Unknown'\n",
    "job_posting['company_name'].fillna('Unknown', inplace=True)\n",
    "\n",
    "# Drop rows in postings where 'company_id' is missing and create a separate copy\n",
    "postings = job_posting.dropna(subset=['company_id']).copy()\n",
    "\n",
    "# Convert 'company_id' to nullable integer to avoid float conversion\n",
    "postings['company_id'] = postings['company_id'].astype('Int64')\n"
   ]
  },
  {
   "cell_type": "code",
   "execution_count": 33,
   "id": "39c355a1-328d-4437-afb0-148ee514828f",
   "metadata": {},
   "outputs": [
    {
     "name": "stdout",
     "output_type": "stream",
     "text": [
      "Initial missing values in postings:\n",
      " job_id                             0\n",
      "company_name                       0\n",
      "title                              0\n",
      "description                        6\n",
      "max_salary                     92793\n",
      "pay_period                     86568\n",
      "location                           0\n",
      "company_id                         0\n",
      "views                           1627\n",
      "med_salary                    115907\n",
      "min_salary                     92793\n",
      "formatted_work_type                0\n",
      "applies                        99236\n",
      "original_listed_time               0\n",
      "remote_allowed                107318\n",
      "job_posting_url                    0\n",
      "application_url                35063\n",
      "application_type                   0\n",
      "expiry                             0\n",
      "closed_time                   121076\n",
      "formatted_experience_level     27949\n",
      "skills_desc                   119696\n",
      "listed_time                        0\n",
      "posting_domain                 38252\n",
      "sponsored                          0\n",
      "work_type                          0\n",
      "currency                       86568\n",
      "compensation_type              86568\n",
      "normalized_salary              86568\n",
      "zip_code                       20274\n",
      "fips                           26738\n",
      "season                             0\n",
      "is_full_time                       0\n",
      "dtype: int64\n"
     ]
    }
   ],
   "source": [
    "# Print initial missing values in postings\n",
    "print(\"Initial missing values in postings:\\n\", postings.isnull().sum())\n",
    "\n"
   ]
  },
  {
   "cell_type": "code",
   "execution_count": 34,
   "id": "d1a2df95-7dc2-4cb7-9ed6-11e8e2bb8a92",
   "metadata": {},
   "outputs": [],
   "source": [
    "# Fill key missing values in postings\n",
    "postings['company_name'].fillna(\"Unknown Company\", inplace=False)\n",
    "postings['description'].fillna(\"No description provided\", inplace=False)\n",
    "\n",
    "# Calculate median salary values for filling\n",
    "salary_median = postings[['max_salary', 'min_salary']].median()\n",
    "postings['max_salary'] = postings['max_salary'].fillna(salary_median['max_salary'])\n",
    "postings['min_salary'] = postings['min_salary'].fillna(salary_median['min_salary'])\n",
    "\n",
    "# Drop columns with too many missing values (over 80% missing)\n",
    "columns_to_drop = ['med_salary', 'skills_desc', 'remote_allowed', 'closed_time']\n",
    "postings = postings.drop(columns=columns_to_drop, errors='ignore')\n"
   ]
  },
  {
   "cell_type": "code",
   "execution_count": 35,
   "id": "8382381b-8cdc-4150-9051-cb60a5b0365a",
   "metadata": {},
   "outputs": [
    {
     "name": "stdout",
     "output_type": "stream",
     "text": [
      "Final missing values in full_data:\n",
      " job_id                             0\n",
      "company_name                       0\n",
      "title                              0\n",
      "description_x                     11\n",
      "max_salary                         0\n",
      "pay_period                    144438\n",
      "location                           0\n",
      "company_id                         0\n",
      "views                           2802\n",
      "min_salary                         0\n",
      "formatted_work_type                0\n",
      "applies                       165087\n",
      "original_listed_time               0\n",
      "job_posting_url                    0\n",
      "application_url                60051\n",
      "application_type                   0\n",
      "expiry                             0\n",
      "formatted_experience_level     45677\n",
      "listed_time                        0\n",
      "posting_domain                 66789\n",
      "sponsored                          0\n",
      "work_type                          0\n",
      "currency                      144438\n",
      "compensation_type             144438\n",
      "normalized_salary             144438\n",
      "zip_code_x                     35322\n",
      "fips                           46106\n",
      "season                             0\n",
      "is_full_time                       0\n",
      "skill_abr                       1541\n",
      "skill_name                      1541\n",
      "name                               1\n",
      "description_y                      1\n",
      "company_size                       1\n",
      "state                              1\n",
      "country                            1\n",
      "city                               1\n",
      "zip_code_y                         1\n",
      "address                            1\n",
      "url                                1\n",
      "dtype: int64\n"
     ]
    }
   ],
   "source": [
    "# Integration Step\n",
    "job_data_combined = postings.merge(job_skills_detailed, on=\"job_id\", how=\"left\")\n",
    "job_data_combined['company_id'] = job_data_combined['company_id'].astype('Int64')  # Ensure alignment with companies\n",
    "\n",
    "# Now merge job_data_combined with companies on 'company_id' to include company information\n",
    "full_data = job_data_combined.merge(companies, on=\"company_id\", how=\"left\")\n",
    "\n",
    "# Check final missing values in full_data\n",
    "print(\"Final missing values in full_data:\\n\", full_data.isnull().sum())\n"
   ]
  },
  {
   "cell_type": "code",
   "execution_count": 36,
   "id": "b321e8d0-1fb2-4108-ba64-fd243082a2c3",
   "metadata": {},
   "outputs": [
    {
     "name": "stdout",
     "output_type": "stream",
     "text": [
      "Total job postings per company:\n",
      "                          name  total_jobs\n",
      "0                         IBM          33\n",
      "1               GE HealthCare          85\n",
      "2  Hewlett Packard Enterprise          24\n",
      "3                      Oracle         127\n",
      "4                   Accenture          37\n"
     ]
    }
   ],
   "source": [
    "# Aggregation examples\n",
    "job_count_per_company = full_data.groupby(\"company_id\")['job_id'].count().reset_index()\n",
    "job_count_per_company.rename(columns={\"job_id\": \"total_jobs\"}, inplace=True)\n",
    "job_count_per_company = job_count_per_company.merge(companies[['company_id', 'name']], on='company_id', how='left')\n",
    "\n",
    "print(\"Total job postings per company:\\n\", job_count_per_company[['name', 'total_jobs']].head())\n"
   ]
  },
  {
   "cell_type": "code",
   "execution_count": 37,
   "id": "75183874-3d50-427e-86e7-81b983589b0d",
   "metadata": {},
   "outputs": [
    {
     "name": "stdout",
     "output_type": "stream",
     "text": [
      "Top required skills across all jobs:\n",
      "                skill_name  count\n",
      "0  Information Technology  26137\n",
      "1                   Sales  22475\n",
      "2              Management  20861\n",
      "3           Manufacturing  18185\n",
      "4    Health Care Provider  17369\n"
     ]
    }
   ],
   "source": [
    "skill_count = job_skills_detailed['skill_name'].value_counts().reset_index()\n",
    "skill_count.columns = ['skill_name', 'count']\n",
    "print(\"Top required skills across all jobs:\\n\", skill_count.head())"
   ]
  },
  {
   "cell_type": "code",
   "execution_count": 38,
   "id": "5dc0cfe1-b412-449a-9040-5bc541d6af01",
   "metadata": {},
   "outputs": [],
   "source": [
    "# Drop duplicates\n",
    "full_data.drop_duplicates(inplace=True)"
   ]
  },
  {
   "cell_type": "code",
   "execution_count": 39,
   "id": "249aa6d4-a36b-4507-a9f3-11ffc4f456c7",
   "metadata": {},
   "outputs": [
    {
     "name": "stdout",
     "output_type": "stream",
     "text": [
      "\n",
      "Sample of fully processed data:\n",
      "             job_id                                   company_name  \\\n",
      "179699  3905351309                           Signature HealthCARE   \n",
      "20013   3887593646                           Keck Medicine of USC   \n",
      "23240   3887872935                                        Netflix   \n",
      "151463  3904577325  TMAC's Direct Hire (Executive Search) Service   \n",
      "131876  3903840980                             FirstChoice Hiring   \n",
      "\n",
      "                                                    title  \\\n",
      "179699                  Certified Nursing Assistant (CNA)   \n",
      "20013   Licensed Vocational Nurse - Emergency Room - F...   \n",
      "23240   Technical Program Manager 6 - Game SDK and Ser...   \n",
      "151463     Field Medical Director, Pediatric Gene Editing   \n",
      "131876       HVAC Technicians / Installers - Capital Heat   \n",
      "\n",
      "                                            description_x  max_salary  \\\n",
      "179699  About Us\\n\\nWelcome to Signature Healthcare of...     80000.0   \n",
      "20013   The Licensed Vocational Nurse (LVN) is an indi...     80000.0   \n",
      "23240   Netflix is one of the world's leading entertai...    725000.0   \n",
      "151463  Field Medical Director (MSL), Pediatric Gene E...     80000.0   \n",
      "131876  2975 Walden Ave., Depew, NY 14043\\n\\nHVAC Tech...     80000.0   \n",
      "\n",
      "       pay_period                   location  company_id  views  min_salary  \\\n",
      "179699        NaN                 Muncie, IN      602239    3.0     60200.0   \n",
      "20013         NaN               Glendale, CA      899708    6.0     60200.0   \n",
      "23240      YEARLY              United States      165158   72.0    240000.0   \n",
      "151463        NaN  New Jersey, United States     9428364    5.0     60200.0   \n",
      "131876        NaN                Buffalo, NY    40693052    4.0     60200.0   \n",
      "\n",
      "        ...            skill_name  \\\n",
      "179699  ...  Health Care Provider   \n",
      "20013   ...  Health Care Provider   \n",
      "23240   ...    Project Management   \n",
      "151463  ...               Science   \n",
      "131876  ...         Manufacturing   \n",
      "\n",
      "                                                 name  \\\n",
      "179699                           Signature HealthCARE   \n",
      "20013                            Keck Medicine of USC   \n",
      "23240                                         Netflix   \n",
      "151463  TMAC's Direct Hire (Executive Search) Service   \n",
      "131876                             FirstChoice Hiring   \n",
      "\n",
      "                                            description_y company_size  \\\n",
      "179699  Signature HealthCARE is a family-based healthc...          7.0   \n",
      "20013   Keck Medicine of USC is the University of Sout...          6.0   \n",
      "23240   Netflix is one of the world's leading entertai...          7.0   \n",
      "151463  TMAC's direct hire service, formerly known as ...          1.0   \n",
      "131876  FirstChoice Hiring is a talent acquisition pla...          1.0   \n",
      "\n",
      "          state country         city zip_code_y                     address  \\\n",
      "179699       KY      US   Louisville      40299     12201 Bluegrass Parkway   \n",
      "20013        CA      US  Los Angeles      90033       1500 San Pablo Street   \n",
      "23240        CA      US    Los Gatos          0       100 Winchester Circle   \n",
      "151463  Georgia      US     Kennesaw      30144             125 TownPark Dr   \n",
      "131876  Georgia      US      Atlanta      30346  115 Perimeter Center Pl NE   \n",
      "\n",
      "                                                      url  \n",
      "179699  https://www.linkedin.com/company/signature-hea...  \n",
      "20013   https://www.linkedin.com/company/keck-medicine...  \n",
      "23240            https://www.linkedin.com/company/netflix  \n",
      "151463        https://www.linkedin.com/company/tmacdirect  \n",
      "131876  https://www.linkedin.com/company/firstchoice-h...  \n",
      "\n",
      "[5 rows x 40 columns]\n"
     ]
    }
   ],
   "source": [
    "# Final sampling step\n",
    "sampled_data = full_data.sample(frac=0.05, random_state=42).copy()\n",
    "print(\"\\nSample of fully processed data:\\n\", sampled_data.head())"
   ]
  },
  {
   "cell_type": "code",
   "execution_count": 40,
   "id": "68b2da4f-4d7e-4fe3-aa1e-7766af874307",
   "metadata": {},
   "outputs": [],
   "source": [
    "# Reduction\n",
    "job_posting_reduced = job_posting.drop(columns=['zip_code', 'fips', 'job_posting_url', 'application_url'])\n"
   ]
  },
  {
   "cell_type": "code",
   "execution_count": 41,
   "id": "eb4ef752-54b2-41a1-9cdc-48d838e89b02",
   "metadata": {},
   "outputs": [],
   "source": [
    "# Selecting relevant features\n",
    "selected_features = job_posting[['job_id', 'company_id', 'title', 'min_salary', 'max_salary', 'location', 'views', 'applies']]\n"
   ]
  },
  {
   "cell_type": "code",
   "execution_count": 42,
   "id": "00c0d32c-06fe-4fba-8894-c71b0f0d23cc",
   "metadata": {},
   "outputs": [
    {
     "name": "stdout",
     "output_type": "stream",
     "text": [
      "   salary_range  job_duration\n",
      "0           3.0             0\n",
      "1          20.0             0\n",
      "2       20000.0             0\n",
      "3       35000.0             0\n",
      "4       20000.0             0\n"
     ]
    }
   ],
   "source": [
    "# Creating the features\n",
    "job_posting['salary_range'] = job_posting['max_salary'] - job_posting['min_salary']\n",
    "job_posting['job_duration'] = (pd.to_datetime(job_posting['expiry']) - pd.to_datetime(job_posting['listed_time'])).dt.days\n",
    "\n",
    "print(job_posting[['salary_range', 'job_duration']].head())\n"
   ]
  },
  {
   "cell_type": "code",
   "execution_count": 43,
   "id": "275e4469-ddb3-405c-a127-acca16ec3a4c",
   "metadata": {},
   "outputs": [
    {
     "name": "stdout",
     "output_type": "stream",
     "text": [
      "             company_name  min_salary  max_salary salary_range_category\n",
      "0   Corcoran Sawyer Smith        17.0        20.0                   Low\n",
      "1                 Unknown        30.0        50.0                   Low\n",
      "2  The National Exemplar      45000.0     65000.0                   Low\n",
      "3  Abrams Fensterman, LLP    140000.0    175000.0                Medium\n",
      "4                 Unknown     60000.0     80000.0                   Low\n"
     ]
    }
   ],
   "source": [
    "# First, create the salary range and category if not already created\n",
    "job_posting['salary_range'] = job_posting['max_salary'] - job_posting['min_salary']\n",
    "job_posting['salary_range_category'] = pd.cut(job_posting['salary_range'], bins=[0, 20000, 50000, 100000], labels=['Low', 'Medium', 'High'])\n",
    "\n",
    "# Select and print company name, salary details, and the salary range category\n",
    "print(job_posting[['company_name', 'min_salary', 'max_salary', 'salary_range_category']].head())\n"
   ]
  },
  {
   "cell_type": "code",
   "execution_count": 44,
   "id": "3f3ca912-9fd1-46cb-b711-fdc6cd659872",
   "metadata": {},
   "outputs": [
    {
     "name": "stdout",
     "output_type": "stream",
     "text": [
      "             company_name  is_full_time\n",
      "0   Corcoran Sawyer Smith             0\n",
      "1                 Unknown             0\n",
      "2  The National Exemplar              0\n",
      "3  Abrams Fensterman, LLP             0\n",
      "4                 Unknown             0\n"
     ]
    }
   ],
   "source": [
    "# Create the is_full_time column if not already created\n",
    "job_posting['is_full_time'] = job_posting['work_type'].apply(lambda x: 1 if x == 'Full-Time' else 0)\n",
    "\n",
    "# Select and print company name and the is_full_time indicator\n",
    "print(job_posting[['company_name', 'is_full_time']].head())\n"
   ]
  },
  {
   "cell_type": "code",
   "execution_count": 45,
   "id": "7f483eac-80b7-44ae-bd70-cb30cb780e50",
   "metadata": {},
   "outputs": [
    {
     "data": {
      "text/html": [
       "<style type=\"text/css\">\n",
       "</style>\n",
       "<table id=\"T_7bcce\">\n",
       "  <caption>Job Postings by Season with Company Name</caption>\n",
       "  <thead>\n",
       "    <tr>\n",
       "      <th class=\"blank level0\" >&nbsp;</th>\n",
       "      <th id=\"T_7bcce_level0_col0\" class=\"col_heading level0 col0\" >listed_time</th>\n",
       "      <th id=\"T_7bcce_level0_col1\" class=\"col_heading level0 col1\" >season</th>\n",
       "      <th id=\"T_7bcce_level0_col2\" class=\"col_heading level0 col2\" >company_name</th>\n",
       "    </tr>\n",
       "  </thead>\n",
       "  <tbody>\n",
       "    <tr>\n",
       "      <th id=\"T_7bcce_level0_row0\" class=\"row_heading level0 row0\" >0</th>\n",
       "      <td id=\"T_7bcce_row0_col0\" class=\"data row0 col0\" >1970-01-01 00:28:33.397508</td>\n",
       "      <td id=\"T_7bcce_row0_col1\" class=\"data row0 col1\" >Winter</td>\n",
       "      <td id=\"T_7bcce_row0_col2\" class=\"data row0 col2\" >Corcoran Sawyer Smith</td>\n",
       "    </tr>\n",
       "    <tr>\n",
       "      <th id=\"T_7bcce_level0_row1\" class=\"row_heading level0 row1\" >1</th>\n",
       "      <td id=\"T_7bcce_row1_col0\" class=\"data row1 col0\" >1970-01-01 00:28:32.857887</td>\n",
       "      <td id=\"T_7bcce_row1_col1\" class=\"data row1 col1\" >Winter</td>\n",
       "      <td id=\"T_7bcce_row1_col2\" class=\"data row1 col2\" >Unknown</td>\n",
       "    </tr>\n",
       "    <tr>\n",
       "      <th id=\"T_7bcce_level0_row2\" class=\"row_heading level0 row2\" >2</th>\n",
       "      <td id=\"T_7bcce_row2_col0\" class=\"data row2 col0\" >1970-01-01 00:28:33.277614</td>\n",
       "      <td id=\"T_7bcce_row2_col1\" class=\"data row2 col1\" >Winter</td>\n",
       "      <td id=\"T_7bcce_row2_col2\" class=\"data row2 col2\" >The National Exemplar </td>\n",
       "    </tr>\n",
       "    <tr>\n",
       "      <th id=\"T_7bcce_level0_row3\" class=\"row_heading level0 row3\" >3</th>\n",
       "      <td id=\"T_7bcce_row3_col0\" class=\"data row3 col0\" >1970-01-01 00:28:32.895812</td>\n",
       "      <td id=\"T_7bcce_row3_col1\" class=\"data row3 col1\" >Winter</td>\n",
       "      <td id=\"T_7bcce_row3_col2\" class=\"data row3 col2\" >Abrams Fensterman, LLP</td>\n",
       "    </tr>\n",
       "    <tr>\n",
       "      <th id=\"T_7bcce_level0_row4\" class=\"row_heading level0 row4\" >4</th>\n",
       "      <td id=\"T_7bcce_row4_col0\" class=\"data row4 col0\" >1970-01-01 00:28:33.451943</td>\n",
       "      <td id=\"T_7bcce_row4_col1\" class=\"data row4 col1\" >Winter</td>\n",
       "      <td id=\"T_7bcce_row4_col2\" class=\"data row4 col2\" >Unknown</td>\n",
       "    </tr>\n",
       "    <tr>\n",
       "      <th id=\"T_7bcce_level0_row5\" class=\"row_heading level0 row5\" >5</th>\n",
       "      <td id=\"T_7bcce_row5_col0\" class=\"data row5 col0\" >1970-01-01 00:28:33.456099</td>\n",
       "      <td id=\"T_7bcce_row5_col1\" class=\"data row5 col1\" >Winter</td>\n",
       "      <td id=\"T_7bcce_row5_col2\" class=\"data row5 col2\" >Downtown Raleigh Alliance</td>\n",
       "    </tr>\n",
       "    <tr>\n",
       "      <th id=\"T_7bcce_level0_row6\" class=\"row_heading level0 row6\" >6</th>\n",
       "      <td id=\"T_7bcce_row6_col0\" class=\"data row6 col0\" >1970-01-01 00:28:32.861019</td>\n",
       "      <td id=\"T_7bcce_row6_col1\" class=\"data row6 col1\" >Winter</td>\n",
       "      <td id=\"T_7bcce_row6_col2\" class=\"data row6 col2\" >Raw Cereal</td>\n",
       "    </tr>\n",
       "    <tr>\n",
       "      <th id=\"T_7bcce_level0_row7\" class=\"row_heading level0 row7\" >7</th>\n",
       "      <td id=\"T_7bcce_row7_col0\" class=\"data row7 col0\" >1970-01-01 00:28:32.443452</td>\n",
       "      <td id=\"T_7bcce_row7_col1\" class=\"data row7 col1\" >Winter</td>\n",
       "      <td id=\"T_7bcce_row7_col2\" class=\"data row7 col2\" >Unknown</td>\n",
       "    </tr>\n",
       "    <tr>\n",
       "      <th id=\"T_7bcce_level0_row8\" class=\"row_heading level0 row8\" >8</th>\n",
       "      <td id=\"T_7bcce_row8_col0\" class=\"data row8 col0\" >1970-01-01 00:28:32.348500</td>\n",
       "      <td id=\"T_7bcce_row8_col1\" class=\"data row8 col1\" >Winter</td>\n",
       "      <td id=\"T_7bcce_row8_col2\" class=\"data row8 col2\" >Children's Nebraska</td>\n",
       "    </tr>\n",
       "    <tr>\n",
       "      <th id=\"T_7bcce_level0_row9\" class=\"row_heading level0 row9\" >9</th>\n",
       "      <td id=\"T_7bcce_row9_col0\" class=\"data row9 col0\" >1970-01-01 00:28:32.455955</td>\n",
       "      <td id=\"T_7bcce_row9_col1\" class=\"data row9 col1\" >Winter</td>\n",
       "      <td id=\"T_7bcce_row9_col2\" class=\"data row9 col2\" >Bay West Church</td>\n",
       "    </tr>\n",
       "  </tbody>\n",
       "</table>\n"
      ],
      "text/plain": [
       "<pandas.io.formats.style.Styler at 0x212679816d0>"
      ]
     },
     "execution_count": 45,
     "metadata": {},
     "output_type": "execute_result"
    }
   ],
   "source": [
    "# Ensure 'listed_time' is in datetime format\n",
    "job_posting['listed_time'] = pd.to_datetime(job_posting['listed_time'], errors='coerce')\n",
    "\n",
    "# Define a function to map each month to a season\n",
    "def month_to_season(month):\n",
    "    if month in [12, 1, 2]:\n",
    "        return 'Winter'\n",
    "    elif month in [3, 4, 5]:\n",
    "        return 'Spring'\n",
    "    elif month in [6, 7, 8]:\n",
    "        return 'Summer'\n",
    "    elif month in [9, 10, 11]:\n",
    "        return 'Autumn'\n",
    "\n",
    "\n",
    "\n",
    "# Display in a styled format for Jupyter Notebooks\n",
    "job_posting[['listed_time', 'season', 'company_name']].head(10).style.set_caption(\"Job Postings by Season with Company Name\")\n",
    "\n",
    "# Apply the function to create a new 'season' column\n",
    "job_posting['season'] = job_posting['listed_time'].dt.month.apply(month_to_season)\n",
    "\n",
    "# Display a styled format for Jupyter Notebooks with listed_time, season, and company_name\n",
    "job_posting[['listed_time', 'season', 'company_name']].head(10).style.set_caption(\"Job Postings by Season with Company Name\")\n",
    "\n",
    "\n"
   ]
  },
  {
   "cell_type": "code",
   "execution_count": 46,
   "id": "a2468f8e-001e-4d36-89cc-3702c81c5064",
   "metadata": {},
   "outputs": [
    {
     "name": "stdout",
     "output_type": "stream",
     "text": [
      "             company_name  views_normalized  applies_normalized\n",
      "0   Corcoran Sawyer Smith          0.001905            0.001035\n",
      "1                 Unknown          0.000000                 NaN\n",
      "2  The National Exemplar           0.000702                 NaN\n",
      "3  Abrams Fensterman, LLP          0.001504                 NaN\n",
      "4                 Unknown          0.000201                 NaN\n"
     ]
    }
   ],
   "source": [
    "# Normalize the 'views' and 'applies' columns\n",
    "job_posting['views_normalized'] = (job_posting['views'] - job_posting['views'].min()) / (job_posting['views'].max() - job_posting['views'].min())\n",
    "job_posting['applies_normalized'] = (job_posting['applies'] - job_posting['applies'].min()) / (job_posting['applies'].max() - job_posting['applies'].min())\n",
    "\n",
    "# Select and print company name along with the normalized columns\n",
    "print(job_posting[['company_name', 'views_normalized', 'applies_normalized']].head())\n"
   ]
  },
  {
   "cell_type": "code",
   "execution_count": 47,
   "id": "b52cad3e-b4af-4b73-9cdf-4137a7da4b2e",
   "metadata": {
    "scrolled": true
   },
   "outputs": [
    {
     "name": "stdout",
     "output_type": "stream",
     "text": [
      "            PCA1      PCA2      job_id                     company_name\n",
      "0      -0.348124 -0.085349      921716            Corcoran Sawyer Smith\n",
      "1      -0.349048 -0.188197     1829192                          Unknown\n",
      "2      -0.084354 -0.131589    10998357           The National Exemplar \n",
      "3       0.418452 -0.067948    23221523           Abrams Fensterman, LLP\n",
      "4      -0.010225 -0.173417    35982263                          Unknown\n",
      "...          ...       ...         ...                              ...\n",
      "123844  0.400500 -0.192176  3906267117                     Lozano Smith\n",
      "123845 -0.010225 -0.173417  3906267126                        Pinterest\n",
      "123846 -0.010225 -0.173417  3906267131                     EPS Learning\n",
      "123847 -0.010163 -0.165130  3906267195  Trelleborg Applied Technologies\n",
      "123848  0.008499 -0.181798  3906267224                        Solugenix\n",
      "\n",
      "[123849 rows x 4 columns]\n"
     ]
    }
   ],
   "source": [
    "# Zgjedhja e veçorive numerike për PCA\n",
    "features = job_posting[['max_salary', 'min_salary', 'med_salary', 'views', 'applies']]\n",
    "\n",
    "# Imputimi i vlerave të humbura\n",
    "imputer = SimpleImputer(strategy='median')\n",
    "features_imputed = imputer.fit_transform(features)\n",
    "\n",
    "# Normalizimi i të dhënave\n",
    "scaler = StandardScaler()\n",
    "features_scaled = scaler.fit_transform(features_imputed)\n",
    "\n",
    "# Aplikimi i PCA\n",
    "pca = PCA(n_components=2)  # Zgjedhja e dy përbërësve\n",
    "principal_components = pca.fit_transform(features_scaled)\n",
    "\n",
    "# Krijimi i DataFrame për përbërësit\n",
    "pca_df = pd.DataFrame(data=principal_components, columns=['PCA1', 'PCA2'])\n",
    "\n",
    "# Shtimi i kolonave origjinale për identifikim\n",
    "pca_df['job_id'] = job_posting['job_id']\n",
    "pca_df['company_name'] = job_posting['company_name']\n",
    "\n",
    "# Shfaqja e rezultatit\n",
    "print(pca_df)"
   ]
  },
  {
   "cell_type": "code",
   "execution_count": null,
   "id": "036d2ab7-9fa1-4027-99c7-981bfba34221",
   "metadata": {},
   "outputs": [],
   "source": [
    "\n"
   ]
  },
  {
   "cell_type": "code",
   "execution_count": null,
   "id": "9015f0cd-ce80-4ab8-8ee6-e61b121934e8",
   "metadata": {},
   "outputs": [],
   "source": []
  }
 ],
 "metadata": {
  "kernelspec": {
   "display_name": "Python 3 (ipykernel)",
   "language": "python",
   "name": "python3"
  },
  "language_info": {
   "codemirror_mode": {
    "name": "ipython",
    "version": 3
   },
   "file_extension": ".py",
   "mimetype": "text/x-python",
   "name": "python",
   "nbconvert_exporter": "python",
   "pygments_lexer": "ipython3",
   "version": "3.9.13"
  }
 },
 "nbformat": 4,
 "nbformat_minor": 5
}
