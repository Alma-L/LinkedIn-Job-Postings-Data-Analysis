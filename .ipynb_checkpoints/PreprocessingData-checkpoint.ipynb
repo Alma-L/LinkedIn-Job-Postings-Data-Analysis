{
 "cells": [
  {
   "cell_type": "code",
   "execution_count": 9,
   "id": "361669df-4fca-49ff-bec9-fb202d3ab581",
   "metadata": {},
   "outputs": [],
   "source": [
    "import pandas as pd\n",
    "import numpy as np"
   ]
  },
  {
   "cell_type": "code",
   "execution_count": 10,
   "id": "a84c3b40-423e-4d6c-b55b-128264610b15",
   "metadata": {},
   "outputs": [],
   "source": [
    "# Load the datasets using the specified paths\n",
    "job_posting = pd.read_csv('./Raw_Data/postings.csv')\n",
    "job_skills = pd.read_csv('./Raw_Data/jobs/job_skills.csv')\n",
    "companies = pd.read_csv('./Raw_Data/companies/companies.csv')\n",
    "mapping_skills = pd.read_csv('./Raw_Data/mappings/skills.csv')"
   ]
  },
  {
   "cell_type": "code",
   "execution_count": 11,
   "id": "7793465e-876f-43d8-9050-ccd385eac0fa",
   "metadata": {},
   "outputs": [],
   "source": [
    "\n",
    "# Ensure columns have appropriate data types\n",
    "companies['company_id'] = companies['company_id'].astype(int)\n",
    "companies['company_size'] = companies['company_size'].astype(float)"
   ]
  },
  {
   "cell_type": "code",
   "execution_count": 12,
   "id": "ec2f4c9b-1713-407d-a06e-edbd5d522e7f",
   "metadata": {},
   "outputs": [],
   "source": [
    "# Check for missing values in each DataFrame\n",
    "missing_values_companies = companies.isnull().sum()\n",
    "missing_values_job_skills = job_skills.isnull().sum()\n",
    "missing_values_skills = mapping_skills.isnull().sum()\n",
    "missing_values_postings = job_posting.isnull().sum()"
   ]
  },
  {
   "cell_type": "code",
   "execution_count": 13,
   "id": "f40c2897-36ce-417c-8dae-4eb41ac2bc79",
   "metadata": {},
   "outputs": [],
   "source": [
    "companies['company_size'].fillna(companies['company_size'].median(), inplace=True)\n",
    "companies['description'].fillna(\"No description provided\", inplace=True)\n",
    "companies['state'].fillna(\"Unknown\", inplace=True)\n",
    "companies['city'].fillna(\"Unknown\", inplace=True)\n",
    "companies['zip_code'].fillna(\"Unknown\", inplace=True)\n",
    "companies['address'].fillna(\"Unknown\", inplace=True)"
   ]
  },
  {
   "cell_type": "code",
   "execution_count": 14,
   "id": "a9b6b538-773a-43fa-831d-07becbb5f12c",
   "metadata": {},
   "outputs": [],
   "source": [
    "# Merge job_skills with mapping_skills to include full skill names\n",
    "job_skills_detailed = job_skills.merge(mapping_skills, on=\"skill_abr\", how=\"left\")"
   ]
  },
  {
   "cell_type": "code",
   "execution_count": 15,
   "id": "d89b487c-99ee-4bea-9ef8-27b3977b26e2",
   "metadata": {},
   "outputs": [
    {
     "name": "stdout",
     "output_type": "stream",
     "text": [
      "Missing values in companies:\n",
      " company_id         0\n",
      "name               0\n",
      "description      296\n",
      "company_size    2774\n",
      "state             22\n",
      "country            0\n",
      "city               1\n",
      "zip_code          28\n",
      "address           22\n",
      "url                0\n",
      "dtype: int64\n",
      "\n",
      "Missing values in job_skills:\n",
      " job_id       0\n",
      "skill_abr    0\n",
      "dtype: int64\n",
      "\n",
      "Missing values in mapping_skills:\n",
      " skill_abr     0\n",
      "skill_name    0\n",
      "dtype: int64\n",
      "\n",
      "Missing values in job_posting:\n",
      " job_id                             0\n",
      "company_name                    1719\n",
      "title                              0\n",
      "description                        7\n",
      "max_salary                     94056\n",
      "pay_period                     87776\n",
      "location                           0\n",
      "company_id                      1717\n",
      "views                           1689\n",
      "med_salary                    117569\n",
      "min_salary                     94056\n",
      "formatted_work_type                0\n",
      "applies                       100529\n",
      "original_listed_time               0\n",
      "remote_allowed                108603\n",
      "job_posting_url                    0\n",
      "application_url                36665\n",
      "application_type                   0\n",
      "expiry                             0\n",
      "closed_time                   122776\n",
      "formatted_experience_level     29409\n",
      "skills_desc                   121410\n",
      "listed_time                        0\n",
      "posting_domain                 39968\n",
      "sponsored                          0\n",
      "work_type                          0\n",
      "currency                       87776\n",
      "compensation_type              87776\n",
      "normalized_salary              87776\n",
      "zip_code                       20872\n",
      "fips                           27415\n",
      "dtype: int64\n"
     ]
    }
   ],
   "source": [
    "# Display summaries of missing values for quality assurance\n",
    "print(\"Missing values in companies:\\n\", missing_values_companies)\n",
    "print(\"\\nMissing values in job_skills:\\n\", missing_values_job_skills)\n",
    "print(\"\\nMissing values in mapping_skills:\\n\", missing_values_skills)\n",
    "print(\"\\nMissing values in job_posting:\\n\", missing_values_postings)\n"
   ]
  },
  {
   "cell_type": "code",
   "execution_count": 16,
   "id": "39c355a1-328d-4437-afb0-148ee514828f",
   "metadata": {},
   "outputs": [
    {
     "name": "stdout",
     "output_type": "stream",
     "text": [
      "\n",
      "Companies head:\n",
      "    company_id                        name  \\\n",
      "0        1009                         IBM   \n",
      "1        1016               GE HealthCare   \n",
      "2        1025  Hewlett Packard Enterprise   \n",
      "3        1028                      Oracle   \n",
      "4        1033                   Accenture   \n",
      "\n",
      "                                         description  company_size  state  \\\n",
      "0  At IBM, we do more than work. We create. We cr...           7.0     NY   \n",
      "1  Every day millions of people feel the impact o...           7.0      0   \n",
      "2  Official LinkedIn of Hewlett Packard Enterpris...           7.0  Texas   \n",
      "3  We’re a cloud technology company that provides...           7.0  Texas   \n",
      "4  Accenture is a leading global professional ser...           7.0      0   \n",
      "\n",
      "  country              city zip_code                                address  \\\n",
      "0      US  Armonk, New York    10504  International Business Machines Corp.   \n",
      "1      US           Chicago        0                                      -   \n",
      "2      US           Houston    77389            1701 E Mossy Oaks Rd Spring   \n",
      "3      US            Austin    78741                        2300 Oracle Way   \n",
      "4      IE          Dublin 2        0                    Grand Canal Harbour   \n",
      "\n",
      "                                                 url  \n",
      "0               https://www.linkedin.com/company/ibm  \n",
      "1      https://www.linkedin.com/company/gehealthcare  \n",
      "2  https://www.linkedin.com/company/hewlett-packa...  \n",
      "3            https://www.linkedin.com/company/oracle  \n",
      "4         https://www.linkedin.com/company/accenture  \n",
      "\n",
      "Job Skills (detailed) head:\n",
      "        job_id skill_abr        skill_name\n",
      "0  3884428798      MRKT         Marketing\n",
      "1  3884428798        PR  Public Relations\n",
      "2  3884428798       WRT   Writing/Editing\n",
      "3  3887473071      SALE             Sales\n",
      "4  3887465684       FIN           Finance\n",
      "\n",
      "Job Posting head:\n",
      "      job_id            company_name  \\\n",
      "0    921716   Corcoran Sawyer Smith   \n",
      "1   1829192                     NaN   \n",
      "2  10998357  The National Exemplar    \n",
      "3  23221523  Abrams Fensterman, LLP   \n",
      "4  35982263                     NaN   \n",
      "\n",
      "                                               title  \\\n",
      "0                              Marketing Coordinator   \n",
      "1                  Mental Health Therapist/Counselor   \n",
      "2                        Assitant Restaurant Manager   \n",
      "3  Senior Elder Law / Trusts and Estates Associat...   \n",
      "4                                 Service Technician   \n",
      "\n",
      "                                         description  max_salary pay_period  \\\n",
      "0  Job descriptionA leading real estate firm in N...        20.0     HOURLY   \n",
      "1  At Aspen Therapy and Wellness , we are committ...        50.0     HOURLY   \n",
      "2  The National Exemplar is accepting application...     65000.0     YEARLY   \n",
      "3  Senior Associate Attorney - Elder Law / Trusts...    175000.0     YEARLY   \n",
      "4  Looking for HVAC service tech with experience ...     80000.0     YEARLY   \n",
      "\n",
      "            location  company_id  views  med_salary  ...  \\\n",
      "0      Princeton, NJ   2774458.0   20.0         NaN  ...   \n",
      "1   Fort Collins, CO         NaN    1.0         NaN  ...   \n",
      "2     Cincinnati, OH  64896719.0    8.0         NaN  ...   \n",
      "3  New Hyde Park, NY    766262.0   16.0         NaN  ...   \n",
      "4     Burlington, IA         NaN    3.0         NaN  ...   \n",
      "\n",
      "                                         skills_desc   listed_time  \\\n",
      "0  Requirements: \\n\\nWe are seeking a College or ...  1.713398e+12   \n",
      "1                                                NaN  1.712858e+12   \n",
      "2  We are currently accepting resumes for FOH - A...  1.713278e+12   \n",
      "3  This position requires a baseline understandin...  1.712896e+12   \n",
      "4                                                NaN  1.713452e+12   \n",
      "\n",
      "   posting_domain  sponsored  work_type currency compensation_type  \\\n",
      "0             NaN          0  FULL_TIME      USD       BASE_SALARY   \n",
      "1             NaN          0  FULL_TIME      USD       BASE_SALARY   \n",
      "2             NaN          0  FULL_TIME      USD       BASE_SALARY   \n",
      "3             NaN          0  FULL_TIME      USD       BASE_SALARY   \n",
      "4             NaN          0  FULL_TIME      USD       BASE_SALARY   \n",
      "\n",
      "  normalized_salary  zip_code     fips  \n",
      "0           38480.0    8540.0  34021.0  \n",
      "1           83200.0   80521.0   8069.0  \n",
      "2           55000.0   45202.0  39061.0  \n",
      "3          157500.0   11040.0  36059.0  \n",
      "4           70000.0   52601.0  19057.0  \n",
      "\n",
      "[5 rows x 31 columns]\n"
     ]
    }
   ],
   "source": [
    "# Display the first few rows of each transformed DataFrame\n",
    "print(\"\\nCompanies head:\\n\", companies.head())\n",
    "print(\"\\nJob Skills (detailed) head:\\n\", job_skills_detailed.head())\n",
    "print(\"\\nJob Posting head:\\n\", job_posting.head())"
   ]
  },
  {
   "cell_type": "code",
   "execution_count": null,
   "id": "8382381b-8cdc-4150-9051-cb60a5b0365a",
   "metadata": {},
   "outputs": [],
   "source": []
  }
 ],
 "metadata": {
  "kernelspec": {
   "display_name": "Python 3 (ipykernel)",
   "language": "python",
   "name": "python3"
  },
  "language_info": {
   "codemirror_mode": {
    "name": "ipython",
    "version": 3
   },
   "file_extension": ".py",
   "mimetype": "text/x-python",
   "name": "python",
   "nbconvert_exporter": "python",
   "pygments_lexer": "ipython3",
   "version": "3.9.13"
  }
 },
 "nbformat": 4,
 "nbformat_minor": 5
}
